{
 "cells": [
  {
   "cell_type": "code",
   "execution_count": 1,
   "id": "dd43b01e",
   "metadata": {},
   "outputs": [],
   "source": [
    "import numpy as np\n",
    "import keras\n",
    "from keras import backend as K\n",
    "from keras.models import Sequential\n",
    "from keras.layers import Activation\n",
    "from keras.layers.core import Dense, Flatten\n",
    "from keras.optimizers import Adam\n",
    "from keras.metrics import categorical_crossentropy\n",
    "from keras.preprocessing.image import ImageDataGenerator\n",
    "from tensorflow.keras.layers import BatchNormalization\n",
    "from keras.layers.convolutional import *\n",
    "from matplotlib import pyplot as plt\n",
    "from sklearn.metrics import confusion_matrix\n",
    "import itertools\n",
    "import matplotlib.pyplot as plt\n",
    "%matplotlib inline"
   ]
  },
  {
   "cell_type": "code",
   "execution_count": 2,
   "id": "62b63c69",
   "metadata": {},
   "outputs": [],
   "source": [
    "train_path='D:/Ramazan/ЗАГРУЗКИ/ECG_images_dataset/4FoldCV/set3/training_set'\n",
    "valid_path='D:/Ramazan/ЗАГРУЗКИ/ECG_images_dataset/4FoldCV/set3/validation_set'\n",
    "test_path='D:/Ramazan/ЗАГРУЗКИ/ECG_images_dataset/4FoldCV/set3/testing_set'"
   ]
  },
  {
   "cell_type": "code",
   "execution_count": 3,
   "id": "47b7f6c3",
   "metadata": {},
   "outputs": [
    {
     "name": "stdout",
     "output_type": "stream",
     "text": [
      "Found 192 images belonging to 2 classes.\n",
      "Found 192 images belonging to 2 classes.\n",
      "Found 64 images belonging to 2 classes.\n"
     ]
    }
   ],
   "source": [
    "train_batches=ImageDataGenerator().flow_from_directory(train_path,target_size=(224,224),classes=['abnormal', 'normal'], batch_size=32)\n",
    "valid_batches=ImageDataGenerator().flow_from_directory(valid_path,target_size=(224,224),classes=['abnormal', 'normal'], batch_size=32)\n",
    "test_batches=ImageDataGenerator().flow_from_directory(test_path,target_size=(224,224),classes=['abnormal', 'normal'], batch_size=32)"
   ]
  },
  {
   "cell_type": "code",
   "execution_count": 4,
   "id": "46900f26",
   "metadata": {},
   "outputs": [],
   "source": [
    "def plots(ims, figsize=(12,6), rows=1, interp=False, titles=None):\n",
    "    if type(ims[0]) is np.ndarray:\n",
    "        ims= np.array(ims).astype(np.uint8)\n",
    "        if (ims.shape[-1] != 3):\n",
    "            ims = ims.transpose((0,2,3,1))\n",
    "    f = plt.figure(figsize=figsize)\n",
    "    cols = len(ims)//rows if len(ims) % 2 == 0 else len(ims)//rows + 1\n",
    "    for i in range(len(ims)):\n",
    "        sp = f.add_subplot(rows, cols, i+1)\n",
    "        sp.axis('off')\n",
    "        if titles is not None:\n",
    "            sp.set_title(titles[i], fontsize=16)\n",
    "        plt.imshow(ims[i], interpolation=None if interp else 'none')"
   ]
  },
  {
   "cell_type": "code",
   "execution_count": 5,
   "id": "fef33bab",
   "metadata": {},
   "outputs": [],
   "source": [
    "imgs, labels = next(train_batches)"
   ]
  },
  {
   "cell_type": "code",
   "execution_count": 6,
   "id": "16d83d53",
   "metadata": {},
   "outputs": [],
   "source": [
    "vgg16_model = keras.applications.vgg16.VGG16()"
   ]
  },
  {
   "cell_type": "code",
   "execution_count": 7,
   "id": "509fdb33",
   "metadata": {},
   "outputs": [],
   "source": [
    "model = Sequential()\n",
    "for layer in vgg16_model.layers[:-1]:\n",
    "    model.add(layer)    "
   ]
  },
  {
   "cell_type": "code",
   "execution_count": 8,
   "id": "737af82a",
   "metadata": {},
   "outputs": [],
   "source": [
    "for layer in model.layers:\n",
    "    layer.trainable = False"
   ]
  },
  {
   "cell_type": "code",
   "execution_count": 9,
   "id": "7cce6bd2",
   "metadata": {},
   "outputs": [],
   "source": [
    "model.add(Dense(2, activation='softmax'))"
   ]
  },
  {
   "cell_type": "code",
   "execution_count": 10,
   "id": "5dd4cd45",
   "metadata": {},
   "outputs": [
    {
     "name": "stdout",
     "output_type": "stream",
     "text": [
      "Model: \"sequential\"\n",
      "_________________________________________________________________\n",
      " Layer (type)                Output Shape              Param #   \n",
      "=================================================================\n",
      " block1_conv1 (Conv2D)       (None, 224, 224, 64)      1792      \n",
      "                                                                 \n",
      " block1_conv2 (Conv2D)       (None, 224, 224, 64)      36928     \n",
      "                                                                 \n",
      " block1_pool (MaxPooling2D)  (None, 112, 112, 64)      0         \n",
      "                                                                 \n",
      " block2_conv1 (Conv2D)       (None, 112, 112, 128)     73856     \n",
      "                                                                 \n",
      " block2_conv2 (Conv2D)       (None, 112, 112, 128)     147584    \n",
      "                                                                 \n",
      " block2_pool (MaxPooling2D)  (None, 56, 56, 128)       0         \n",
      "                                                                 \n",
      " block3_conv1 (Conv2D)       (None, 56, 56, 256)       295168    \n",
      "                                                                 \n",
      " block3_conv2 (Conv2D)       (None, 56, 56, 256)       590080    \n",
      "                                                                 \n",
      " block3_conv3 (Conv2D)       (None, 56, 56, 256)       590080    \n",
      "                                                                 \n",
      " block3_pool (MaxPooling2D)  (None, 28, 28, 256)       0         \n",
      "                                                                 \n",
      " block4_conv1 (Conv2D)       (None, 28, 28, 512)       1180160   \n",
      "                                                                 \n",
      " block4_conv2 (Conv2D)       (None, 28, 28, 512)       2359808   \n",
      "                                                                 \n",
      " block4_conv3 (Conv2D)       (None, 28, 28, 512)       2359808   \n",
      "                                                                 \n",
      " block4_pool (MaxPooling2D)  (None, 14, 14, 512)       0         \n",
      "                                                                 \n",
      " block5_conv1 (Conv2D)       (None, 14, 14, 512)       2359808   \n",
      "                                                                 \n",
      " block5_conv2 (Conv2D)       (None, 14, 14, 512)       2359808   \n",
      "                                                                 \n",
      " block5_conv3 (Conv2D)       (None, 14, 14, 512)       2359808   \n",
      "                                                                 \n",
      " block5_pool (MaxPooling2D)  (None, 7, 7, 512)         0         \n",
      "                                                                 \n",
      " flatten (Flatten)           (None, 25088)             0         \n",
      "                                                                 \n",
      " fc1 (Dense)                 (None, 4096)              102764544 \n",
      "                                                                 \n",
      " fc2 (Dense)                 (None, 4096)              16781312  \n",
      "                                                                 \n",
      " dense (Dense)               (None, 2)                 8194      \n",
      "                                                                 \n",
      "=================================================================\n",
      "Total params: 134,268,738\n",
      "Trainable params: 8,194\n",
      "Non-trainable params: 134,260,544\n",
      "_________________________________________________________________\n"
     ]
    }
   ],
   "source": [
    "model.summary()"
   ]
  },
  {
   "cell_type": "code",
   "execution_count": 11,
   "id": "80ddfd90",
   "metadata": {},
   "outputs": [],
   "source": [
    "model.compile(Adam(learning_rate=.01), loss='categorical_crossentropy', metrics=['accuracy'])"
   ]
  },
  {
   "cell_type": "code",
   "execution_count": 12,
   "id": "11dd4035",
   "metadata": {},
   "outputs": [
    {
     "name": "stdout",
     "output_type": "stream",
     "text": [
      "Epoch 1/16\n",
      "6/6 - 135s - loss: 17.9220 - accuracy: 0.4583 - val_loss: 22.6477 - val_accuracy: 0.5000 - 135s/epoch - 23s/step\n",
      "Epoch 2/16\n",
      "6/6 - 119s - loss: 12.9265 - accuracy: 0.4688 - val_loss: 12.2607 - val_accuracy: 0.5000 - 119s/epoch - 20s/step\n",
      "Epoch 3/16\n",
      "6/6 - 114s - loss: 6.8083 - accuracy: 0.5521 - val_loss: 3.3957 - val_accuracy: 0.5885 - 114s/epoch - 19s/step\n",
      "Epoch 4/16\n",
      "6/6 - 115s - loss: 2.4421 - accuracy: 0.6771 - val_loss: 0.4424 - val_accuracy: 0.8490 - 115s/epoch - 19s/step\n",
      "Epoch 5/16\n",
      "6/6 - 115s - loss: 1.0596 - accuracy: 0.8125 - val_loss: 0.9873 - val_accuracy: 0.8073 - 115s/epoch - 19s/step\n",
      "Epoch 6/16\n",
      "6/6 - 114s - loss: 1.1502 - accuracy: 0.8177 - val_loss: 1.5110 - val_accuracy: 0.7292 - 114s/epoch - 19s/step\n",
      "Epoch 7/16\n",
      "6/6 - 103s - loss: 1.4652 - accuracy: 0.7604 - val_loss: 0.6123 - val_accuracy: 0.8958 - 103s/epoch - 17s/step\n",
      "Epoch 8/16\n",
      "6/6 - 97s - loss: 1.0594 - accuracy: 0.8281 - val_loss: 0.5499 - val_accuracy: 0.8958 - 97s/epoch - 16s/step\n",
      "Epoch 9/16\n",
      "6/6 - 106s - loss: 0.7990 - accuracy: 0.8438 - val_loss: 1.5286 - val_accuracy: 0.7344 - 106s/epoch - 18s/step\n",
      "Epoch 10/16\n",
      "6/6 - 121s - loss: 0.9426 - accuracy: 0.8229 - val_loss: 0.4874 - val_accuracy: 0.8958 - 121s/epoch - 20s/step\n",
      "Epoch 11/16\n",
      "6/6 - 99s - loss: 0.5100 - accuracy: 0.8906 - val_loss: 0.4064 - val_accuracy: 0.8958 - 99s/epoch - 16s/step\n",
      "Epoch 12/16\n",
      "6/6 - 98s - loss: 0.3777 - accuracy: 0.8958 - val_loss: 0.2708 - val_accuracy: 0.9167 - 98s/epoch - 16s/step\n",
      "Epoch 13/16\n",
      "6/6 - 99s - loss: 0.2457 - accuracy: 0.9323 - val_loss: 0.2464 - val_accuracy: 0.9375 - 99s/epoch - 16s/step\n",
      "Epoch 14/16\n",
      "6/6 - 99s - loss: 0.2271 - accuracy: 0.9323 - val_loss: 0.2152 - val_accuracy: 0.9323 - 99s/epoch - 16s/step\n",
      "Epoch 15/16\n",
      "6/6 - 112s - loss: 0.2295 - accuracy: 0.9479 - val_loss: 0.2842 - val_accuracy: 0.8958 - 112s/epoch - 19s/step\n",
      "Epoch 16/16\n",
      "6/6 - 109s - loss: 0.4134 - accuracy: 0.8802 - val_loss: 0.5026 - val_accuracy: 0.8594 - 109s/epoch - 18s/step\n"
     ]
    },
    {
     "data": {
      "text/plain": [
       "<keras.callbacks.History at 0x2010be7ac50>"
      ]
     },
     "execution_count": 12,
     "metadata": {},
     "output_type": "execute_result"
    }
   ],
   "source": [
    "model.fit(train_batches, steps_per_epoch=6, validation_data=valid_batches, validation_steps=6, epochs=16, verbose=2)"
   ]
  },
  {
   "cell_type": "code",
   "execution_count": 13,
   "id": "3e1bb1ba",
   "metadata": {},
   "outputs": [],
   "source": [
    "test_imgs, test_labels = next(test_batches)"
   ]
  },
  {
   "cell_type": "code",
   "execution_count": 14,
   "id": "4ef2fab4",
   "metadata": {},
   "outputs": [
    {
     "data": {
      "text/plain": [
       "array([1., 0., 0., 1., 1., 0., 1., 1., 1., 1., 0., 1., 0., 1., 0., 1., 0.,\n",
       "       0., 1., 1., 1., 1., 1., 0., 1., 0., 1., 1., 0., 1., 1., 1.],\n",
       "      dtype=float32)"
      ]
     },
     "execution_count": 14,
     "metadata": {},
     "output_type": "execute_result"
    }
   ],
   "source": [
    "test_labels = test_labels[:,0]\n",
    "test_labels"
   ]
  },
  {
   "cell_type": "code",
   "execution_count": 15,
   "id": "7486155d",
   "metadata": {},
   "outputs": [
    {
     "data": {
      "text/plain": [
       "array([[9.5996904e-05, 9.9990398e-01],\n",
       "       [2.0541437e-07, 9.9999970e-01],\n",
       "       [1.6452517e-06, 9.9999827e-01],\n",
       "       [5.2481967e-01, 4.7518039e-01],\n",
       "       [9.9995309e-01, 4.6808786e-05],\n",
       "       [3.0452621e-04, 9.9969554e-01],\n",
       "       [6.5027885e-02, 9.3497205e-01],\n",
       "       [9.9999732e-01, 2.5939287e-06],\n",
       "       [5.4592979e-01, 4.5407018e-01],\n",
       "       [8.4332716e-01, 1.5667288e-01],\n",
       "       [6.8649395e-05, 9.9993128e-01],\n",
       "       [1.0232932e-02, 9.8976701e-01],\n",
       "       [3.5482168e-02, 9.6451777e-01],\n",
       "       [1.6088913e-01, 8.3911085e-01],\n",
       "       [8.8130907e-09, 9.9999994e-01],\n",
       "       [9.9988908e-01, 1.1083014e-04],\n",
       "       [4.7669804e-04, 9.9952322e-01],\n",
       "       [3.6028458e-04, 9.9963975e-01],\n",
       "       [9.9999994e-01, 3.5606303e-11],\n",
       "       [1.6169342e-01, 8.3830643e-01],\n",
       "       [9.9885100e-01, 1.1490505e-03],\n",
       "       [9.9911118e-01, 8.8873925e-04],\n",
       "       [9.9353915e-01, 6.4607034e-03],\n",
       "       [6.7373832e-05, 9.9993259e-01],\n",
       "       [7.8325766e-01, 2.1674223e-01],\n",
       "       [1.0411768e-06, 9.9999887e-01],\n",
       "       [4.5389943e-02, 9.5461011e-01],\n",
       "       [9.9999958e-01, 4.0535969e-07],\n",
       "       [5.6494363e-03, 9.9435061e-01],\n",
       "       [5.2760547e-01, 4.7239450e-01],\n",
       "       [9.9994332e-01, 5.6567907e-05],\n",
       "       [9.9999994e-01, 3.3422241e-11]], dtype=float32)"
      ]
     },
     "execution_count": 15,
     "metadata": {},
     "output_type": "execute_result"
    }
   ],
   "source": [
    "predictions = model.predict(test_batches, steps = 1, verbose = 0)\n",
    "predictions"
   ]
  },
  {
   "cell_type": "code",
   "execution_count": 16,
   "id": "4f0103fc",
   "metadata": {},
   "outputs": [],
   "source": [
    "def plot_confusion_matrix(cm, classes,\n",
    "                          normalize=False,\n",
    "                          title='Confusion matrix',\n",
    "                          cmap=plt.cm.Blues):\n",
    "    \"\"\"\n",
    "    This function prints and plots the confusion matrix.\n",
    "    Normalization can be applied by setting `normalize=True`.\n",
    "    \"\"\"\n",
    "    plt.imshow(cm, interpolation='nearest', cmap=cmap)\n",
    "    plt.title(title)\n",
    "    plt.colorbar()\n",
    "    tick_marks = np.arange(len(classes))\n",
    "    plt.xticks(tick_marks, classes, rotation=45)\n",
    "    plt.yticks(tick_marks, classes)\n",
    "\n",
    "    if normalize:\n",
    "        cm = cm.astype('float') / cm.sum(axis=1)[:, np.newaxis]\n",
    "        print(\"Normalized confusion matrix\")\n",
    "    else:\n",
    "        print('Confusion matrix, without normalization')\n",
    "\n",
    "    print(cm)\n",
    "\n",
    "    thresh = cm.max() / 2.\n",
    "    for i, j in itertools.product(range(cm.shape[0]), range(cm.shape[1])):\n",
    "        plt.text(j, i, cm[i, j],\n",
    "                 horizontalalignment=\"center\",\n",
    "                 color=\"white\" if cm[i, j] > thresh else \"black\")\n",
    "\n",
    "    plt.tight_layout()\n",
    "    plt.ylabel('True label')\n",
    "    plt.xlabel('Predicted label')"
   ]
  },
  {
   "cell_type": "code",
   "execution_count": 17,
   "id": "ff3cf7f1",
   "metadata": {},
   "outputs": [],
   "source": [
    "cm = confusion_matrix(test_labels, np.round(predictions[:,0]))"
   ]
  },
  {
   "cell_type": "code",
   "execution_count": 18,
   "id": "5eec064a",
   "metadata": {},
   "outputs": [
    {
     "name": "stdout",
     "output_type": "stream",
     "text": [
      "Confusion matrix, without normalization\n",
      "[[11  0]\n",
      " [ 6 15]]\n"
     ]
    },
    {
     "data": {
      "image/png": "[encoded data removed]",
      "text/plain": [
       "<Figure size 640x480 with 2 Axes>"
      ]
     },
     "metadata": {},
     "output_type": "display_data"
    }
   ],
   "source": [
    "cm_plot_labels = ['abnormal', 'normal']\n",
    "plot_confusion_matrix(cm, cm_plot_labels, title='Confusion Matrix')"
   ]
  },
  {
   "cell_type": "code",
   "execution_count": null,
   "id": "41c9c6c0",
   "metadata": {},
   "outputs": [],
   "source": []
  }
 ],
 "metadata": {
  "kernelspec": {
   "display_name": "Python 3 (ipykernel)",
   "language": "python",
   "name": "python3"
  },
  "language_info": {
   "codemirror_mode": {
    "name": "ipython",
    "version": 3
   },
   "file_extension": ".py",
   "mimetype": "text/x-python",
   "name": "python",
   "nbconvert_exporter": "python",
   "pygments_lexer": "ipython3",
   "version": "3.10.9"
  }
 },
 "nbformat": 4,
 "nbformat_minor": 5
}
