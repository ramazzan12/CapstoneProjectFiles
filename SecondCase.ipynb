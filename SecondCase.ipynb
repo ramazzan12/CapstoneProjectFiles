{
 "cells": [
  {
   "cell_type": "code",
   "execution_count": 1,
   "id": "4be9b152",
   "metadata": {},
   "outputs": [],
   "source": [
    "import numpy as np\n",
    "import keras\n",
    "from keras import backend as K\n",
    "from keras.models import Sequential\n",
    "from keras.layers import Activation\n",
    "from keras.layers.core import Dense, Flatten\n",
    "from keras.optimizers import Adam\n",
    "from keras.metrics import categorical_crossentropy\n",
    "from keras.preprocessing.image import ImageDataGenerator\n",
    "from tensorflow.keras.layers import BatchNormalization\n",
    "from keras.layers.convolutional import *\n",
    "from matplotlib import pyplot as plt\n",
    "from sklearn.metrics import confusion_matrix\n",
    "import itertools\n",
    "import matplotlib.pyplot as plt\n",
    "%matplotlib inline"
   ]
  },
  {
   "cell_type": "code",
   "execution_count": 2,
   "id": "ae96f3cd",
   "metadata": {},
   "outputs": [],
   "source": [
    "train_path='D:/Ramazan/ЗАГРУЗКИ/ECG_images_dataset/secondCase/training_set'\n",
    "valid_path='D:/Ramazan/ЗАГРУЗКИ/ECG_images_dataset/secondCase/validation_set'\n",
    "test_path='D:/Ramazan/ЗАГРУЗКИ/ECG_images_dataset/secondCase/testing_set'"
   ]
  },
  {
   "cell_type": "code",
   "execution_count": 3,
   "id": "49006560",
   "metadata": {},
   "outputs": [
    {
     "name": "stdout",
     "output_type": "stream",
     "text": [
      "Found 192 images belonging to 2 classes.\n",
      "Found 192 images belonging to 2 classes.\n",
      "Found 64 images belonging to 2 classes.\n"
     ]
    }
   ],
   "source": [
    "train_batches=ImageDataGenerator().flow_from_directory(train_path,target_size=(224,224),classes=['abnormal', 'normal'], batch_size=32)\n",
    "valid_batches=ImageDataGenerator().flow_from_directory(valid_path,target_size=(224,224),classes=['abnormal', 'normal'], batch_size=32)\n",
    "test_batches=ImageDataGenerator().flow_from_directory(test_path,target_size=(224,224),classes=['abnormal', 'normal'], batch_size=32)"
   ]
  },
  {
   "cell_type": "code",
   "execution_count": 4,
   "id": "35400311",
   "metadata": {},
   "outputs": [],
   "source": [
    "def plots(ims, figsize=(12,6), rows=1, interp=False, titles=None):\n",
    "    if type(ims[0]) is np.ndarray:\n",
    "        ims= np.array(ims).astype(np.uint8)\n",
    "        if (ims.shape[-1] != 3):\n",
    "            ims = ims.transpose((0,2,3,1))\n",
    "    f = plt.figure(figsize=figsize)\n",
    "    cols = len(ims)//rows if len(ims) % 2 == 0 else len(ims)//rows + 1\n",
    "    for i in range(len(ims)):\n",
    "        sp = f.add_subplot(rows, cols, i+1)\n",
    "        sp.axis('off')\n",
    "        if titles is not None:\n",
    "            sp.set_title(titles[i], fontsize=16)\n",
    "        plt.imshow(ims[i], interpolation=None if interp else 'none')"
   ]
  },
  {
   "cell_type": "code",
   "execution_count": 5,
   "id": "2e7fd823",
   "metadata": {},
   "outputs": [],
   "source": [
    "imgs, labels = next(train_batches)"
   ]
  },
  {
   "cell_type": "code",
   "execution_count": 6,
   "id": "2103f0f3",
   "metadata": {},
   "outputs": [],
   "source": [
    "vgg16_model = keras.applications.vgg16.VGG16()"
   ]
  },
  {
   "cell_type": "code",
   "execution_count": 7,
   "id": "38a88e03",
   "metadata": {},
   "outputs": [
    {
     "name": "stdout",
     "output_type": "stream",
     "text": [
      "Model: \"vgg16\"\n",
      "_________________________________________________________________\n",
      " Layer (type)                Output Shape              Param #   \n",
      "=================================================================\n",
      " input_1 (InputLayer)        [(None, 224, 224, 3)]     0         \n",
      "                                                                 \n",
      " block1_conv1 (Conv2D)       (None, 224, 224, 64)      1792      \n",
      "                                                                 \n",
      " block1_conv2 (Conv2D)       (None, 224, 224, 64)      36928     \n",
      "                                                                 \n",
      " block1_pool (MaxPooling2D)  (None, 112, 112, 64)      0         \n",
      "                                                                 \n",
      " block2_conv1 (Conv2D)       (None, 112, 112, 128)     73856     \n",
      "                                                                 \n",
      " block2_conv2 (Conv2D)       (None, 112, 112, 128)     147584    \n",
      "                                                                 \n",
      " block2_pool (MaxPooling2D)  (None, 56, 56, 128)       0         \n",
      "                                                                 \n",
      " block3_conv1 (Conv2D)       (None, 56, 56, 256)       295168    \n",
      "                                                                 \n",
      " block3_conv2 (Conv2D)       (None, 56, 56, 256)       590080    \n",
      "                                                                 \n",
      " block3_conv3 (Conv2D)       (None, 56, 56, 256)       590080    \n",
      "                                                                 \n",
      " block3_pool (MaxPooling2D)  (None, 28, 28, 256)       0         \n",
      "                                                                 \n",
      " block4_conv1 (Conv2D)       (None, 28, 28, 512)       1180160   \n",
      "                                                                 \n",
      " block4_conv2 (Conv2D)       (None, 28, 28, 512)       2359808   \n",
      "                                                                 \n",
      " block4_conv3 (Conv2D)       (None, 28, 28, 512)       2359808   \n",
      "                                                                 \n",
      " block4_pool (MaxPooling2D)  (None, 14, 14, 512)       0         \n",
      "                                                                 \n",
      " block5_conv1 (Conv2D)       (None, 14, 14, 512)       2359808   \n",
      "                                                                 \n",
      " block5_conv2 (Conv2D)       (None, 14, 14, 512)       2359808   \n",
      "                                                                 \n",
      " block5_conv3 (Conv2D)       (None, 14, 14, 512)       2359808   \n",
      "                                                                 \n",
      " block5_pool (MaxPooling2D)  (None, 7, 7, 512)         0         \n",
      "                                                                 \n",
      " flatten (Flatten)           (None, 25088)             0         \n",
      "                                                                 \n",
      " fc1 (Dense)                 (None, 4096)              102764544 \n",
      "                                                                 \n",
      " fc2 (Dense)                 (None, 4096)              16781312  \n",
      "                                                                 \n",
      " predictions (Dense)         (None, 1000)              4097000   \n",
      "                                                                 \n",
      "=================================================================\n",
      "Total params: 138,357,544\n",
      "Trainable params: 138,357,544\n",
      "Non-trainable params: 0\n",
      "_________________________________________________________________\n"
     ]
    }
   ],
   "source": [
    "vgg16_model.summary()"
   ]
  },
  {
   "cell_type": "code",
   "execution_count": 8,
   "id": "7d330da5",
   "metadata": {},
   "outputs": [
    {
     "data": {
      "text/plain": [
       "keras.engine.functional.Functional"
      ]
     },
     "execution_count": 8,
     "metadata": {},
     "output_type": "execute_result"
    }
   ],
   "source": [
    "type(vgg16_model)"
   ]
  },
  {
   "cell_type": "code",
   "execution_count": 9,
   "id": "846ca95a",
   "metadata": {},
   "outputs": [],
   "source": [
    "model = Sequential()\n",
    "for layer in vgg16_model.layers[:-1]:\n",
    "    model.add(layer)    "
   ]
  },
  {
   "cell_type": "code",
   "execution_count": 10,
   "id": "7cde7f05",
   "metadata": {},
   "outputs": [
    {
     "name": "stdout",
     "output_type": "stream",
     "text": [
      "Model: \"sequential\"\n",
      "_________________________________________________________________\n",
      " Layer (type)                Output Shape              Param #   \n",
      "=================================================================\n",
      " block1_conv1 (Conv2D)       (None, 224, 224, 64)      1792      \n",
      "                                                                 \n",
      " block1_conv2 (Conv2D)       (None, 224, 224, 64)      36928     \n",
      "                                                                 \n",
      " block1_pool (MaxPooling2D)  (None, 112, 112, 64)      0         \n",
      "                                                                 \n",
      " block2_conv1 (Conv2D)       (None, 112, 112, 128)     73856     \n",
      "                                                                 \n",
      " block2_conv2 (Conv2D)       (None, 112, 112, 128)     147584    \n",
      "                                                                 \n",
      " block2_pool (MaxPooling2D)  (None, 56, 56, 128)       0         \n",
      "                                                                 \n",
      " block3_conv1 (Conv2D)       (None, 56, 56, 256)       295168    \n",
      "                                                                 \n",
      " block3_conv2 (Conv2D)       (None, 56, 56, 256)       590080    \n",
      "                                                                 \n",
      " block3_conv3 (Conv2D)       (None, 56, 56, 256)       590080    \n",
      "                                                                 \n",
      " block3_pool (MaxPooling2D)  (None, 28, 28, 256)       0         \n",
      "                                                                 \n",
      " block4_conv1 (Conv2D)       (None, 28, 28, 512)       1180160   \n",
      "                                                                 \n",
      " block4_conv2 (Conv2D)       (None, 28, 28, 512)       2359808   \n",
      "                                                                 \n",
      " block4_conv3 (Conv2D)       (None, 28, 28, 512)       2359808   \n",
      "                                                                 \n",
      " block4_pool (MaxPooling2D)  (None, 14, 14, 512)       0         \n",
      "                                                                 \n",
      " block5_conv1 (Conv2D)       (None, 14, 14, 512)       2359808   \n",
      "                                                                 \n",
      " block5_conv2 (Conv2D)       (None, 14, 14, 512)       2359808   \n",
      "                                                                 \n",
      " block5_conv3 (Conv2D)       (None, 14, 14, 512)       2359808   \n",
      "                                                                 \n",
      " block5_pool (MaxPooling2D)  (None, 7, 7, 512)         0         \n",
      "                                                                 \n",
      " flatten (Flatten)           (None, 25088)             0         \n",
      "                                                                 \n",
      " fc1 (Dense)                 (None, 4096)              102764544 \n",
      "                                                                 \n",
      " fc2 (Dense)                 (None, 4096)              16781312  \n",
      "                                                                 \n",
      "=================================================================\n",
      "Total params: 134,260,544\n",
      "Trainable params: 134,260,544\n",
      "Non-trainable params: 0\n",
      "_________________________________________________________________\n"
     ]
    }
   ],
   "source": [
    "model.summary()"
   ]
  },
  {
   "cell_type": "code",
   "execution_count": 11,
   "id": "a222384c",
   "metadata": {},
   "outputs": [],
   "source": [
    "for layer in model.layers:\n",
    "    layer.trainable = False"
   ]
  },
  {
   "cell_type": "code",
   "execution_count": 12,
   "id": "2fe71887",
   "metadata": {},
   "outputs": [],
   "source": [
    "model.add(Dense(2, activation='softmax'))"
   ]
  },
  {
   "cell_type": "code",
   "execution_count": 13,
   "id": "60e9311e",
   "metadata": {},
   "outputs": [
    {
     "name": "stdout",
     "output_type": "stream",
     "text": [
      "Model: \"sequential\"\n",
      "_________________________________________________________________\n",
      " Layer (type)                Output Shape              Param #   \n",
      "=================================================================\n",
      " block1_conv1 (Conv2D)       (None, 224, 224, 64)      1792      \n",
      "                                                                 \n",
      " block1_conv2 (Conv2D)       (None, 224, 224, 64)      36928     \n",
      "                                                                 \n",
      " block1_pool (MaxPooling2D)  (None, 112, 112, 64)      0         \n",
      "                                                                 \n",
      " block2_conv1 (Conv2D)       (None, 112, 112, 128)     73856     \n",
      "                                                                 \n",
      " block2_conv2 (Conv2D)       (None, 112, 112, 128)     147584    \n",
      "                                                                 \n",
      " block2_pool (MaxPooling2D)  (None, 56, 56, 128)       0         \n",
      "                                                                 \n",
      " block3_conv1 (Conv2D)       (None, 56, 56, 256)       295168    \n",
      "                                                                 \n",
      " block3_conv2 (Conv2D)       (None, 56, 56, 256)       590080    \n",
      "                                                                 \n",
      " block3_conv3 (Conv2D)       (None, 56, 56, 256)       590080    \n",
      "                                                                 \n",
      " block3_pool (MaxPooling2D)  (None, 28, 28, 256)       0         \n",
      "                                                                 \n",
      " block4_conv1 (Conv2D)       (None, 28, 28, 512)       1180160   \n",
      "                                                                 \n",
      " block4_conv2 (Conv2D)       (None, 28, 28, 512)       2359808   \n",
      "                                                                 \n",
      " block4_conv3 (Conv2D)       (None, 28, 28, 512)       2359808   \n",
      "                                                                 \n",
      " block4_pool (MaxPooling2D)  (None, 14, 14, 512)       0         \n",
      "                                                                 \n",
      " block5_conv1 (Conv2D)       (None, 14, 14, 512)       2359808   \n",
      "                                                                 \n",
      " block5_conv2 (Conv2D)       (None, 14, 14, 512)       2359808   \n",
      "                                                                 \n",
      " block5_conv3 (Conv2D)       (None, 14, 14, 512)       2359808   \n",
      "                                                                 \n",
      " block5_pool (MaxPooling2D)  (None, 7, 7, 512)         0         \n",
      "                                                                 \n",
      " flatten (Flatten)           (None, 25088)             0         \n",
      "                                                                 \n",
      " fc1 (Dense)                 (None, 4096)              102764544 \n",
      "                                                                 \n",
      " fc2 (Dense)                 (None, 4096)              16781312  \n",
      "                                                                 \n",
      " dense (Dense)               (None, 2)                 8194      \n",
      "                                                                 \n",
      "=================================================================\n",
      "Total params: 134,268,738\n",
      "Trainable params: 8,194\n",
      "Non-trainable params: 134,260,544\n",
      "_________________________________________________________________\n"
     ]
    }
   ],
   "source": [
    "model.summary()"
   ]
  },
  {
   "cell_type": "code",
   "execution_count": 14,
   "id": "6482a2c4",
   "metadata": {},
   "outputs": [],
   "source": [
    "model.compile(Adam(learning_rate=.01), loss='categorical_crossentropy', metrics=['accuracy'])"
   ]
  },
  {
   "cell_type": "code",
   "execution_count": 15,
   "id": "fbabdcaa",
   "metadata": {},
   "outputs": [
    {
     "name": "stdout",
     "output_type": "stream",
     "text": [
      "Epoch 1/30\n",
      "6/6 - 144s - loss: 9.6333 - accuracy: 0.4948 - val_loss: 3.4906 - val_accuracy: 0.5833 - 144s/epoch - 24s/step\n",
      "Epoch 2/30\n",
      "6/6 - 135s - loss: 3.4317 - accuracy: 0.6406 - val_loss: 1.7864 - val_accuracy: 0.7396 - 135s/epoch - 23s/step\n",
      "Epoch 3/30\n",
      "6/6 - 128s - loss: 1.9636 - accuracy: 0.7500 - val_loss: 0.7804 - val_accuracy: 0.8333 - 128s/epoch - 21s/step\n",
      "Epoch 4/30\n",
      "6/6 - 103s - loss: 1.5035 - accuracy: 0.8073 - val_loss: 2.9379 - val_accuracy: 0.7083 - 103s/epoch - 17s/step\n",
      "Epoch 5/30\n",
      "6/6 - 113s - loss: 1.5751 - accuracy: 0.8281 - val_loss: 1.2908 - val_accuracy: 0.7917 - 113s/epoch - 19s/step\n",
      "Epoch 6/30\n",
      "6/6 - 115s - loss: 1.4874 - accuracy: 0.8177 - val_loss: 1.1444 - val_accuracy: 0.8438 - 115s/epoch - 19s/step\n",
      "Epoch 7/30\n",
      "6/6 - 102s - loss: 0.7039 - accuracy: 0.8854 - val_loss: 0.5094 - val_accuracy: 0.8698 - 102s/epoch - 17s/step\n",
      "Epoch 8/30\n",
      "6/6 - 135s - loss: 0.4629 - accuracy: 0.9010 - val_loss: 0.4773 - val_accuracy: 0.8906 - 135s/epoch - 22s/step\n",
      "Epoch 9/30\n",
      "6/6 - 131s - loss: 0.4248 - accuracy: 0.9062 - val_loss: 0.5911 - val_accuracy: 0.8750 - 131s/epoch - 22s/step\n",
      "Epoch 10/30\n",
      "6/6 - 135s - loss: 0.5752 - accuracy: 0.8542 - val_loss: 0.8208 - val_accuracy: 0.8385 - 135s/epoch - 23s/step\n",
      "Epoch 11/30\n",
      "6/6 - 141s - loss: 0.2947 - accuracy: 0.9375 - val_loss: 0.3328 - val_accuracy: 0.9010 - 141s/epoch - 23s/step\n",
      "Epoch 12/30\n",
      "6/6 - 138s - loss: 0.1932 - accuracy: 0.9271 - val_loss: 0.6338 - val_accuracy: 0.8646 - 138s/epoch - 23s/step\n",
      "Epoch 13/30\n",
      "6/6 - 134s - loss: 0.2388 - accuracy: 0.9219 - val_loss: 0.3011 - val_accuracy: 0.9010 - 134s/epoch - 22s/step\n",
      "Epoch 14/30\n",
      "6/6 - 133s - loss: 0.1870 - accuracy: 0.9427 - val_loss: 0.3009 - val_accuracy: 0.9010 - 133s/epoch - 22s/step\n",
      "Epoch 15/30\n",
      "6/6 - 135s - loss: 0.1340 - accuracy: 0.9531 - val_loss: 0.4711 - val_accuracy: 0.8802 - 135s/epoch - 22s/step\n",
      "Epoch 16/30\n",
      "6/6 - 145s - loss: 0.1672 - accuracy: 0.9531 - val_loss: 0.6325 - val_accuracy: 0.8438 - 145s/epoch - 24s/step\n",
      "Epoch 17/30\n",
      "6/6 - 134s - loss: 0.1649 - accuracy: 0.9479 - val_loss: 0.2265 - val_accuracy: 0.9115 - 134s/epoch - 22s/step\n",
      "Epoch 18/30\n",
      "6/6 - 134s - loss: 0.1661 - accuracy: 0.9323 - val_loss: 0.2149 - val_accuracy: 0.9115 - 134s/epoch - 22s/step\n",
      "Epoch 19/30\n",
      "6/6 - 134s - loss: 0.0968 - accuracy: 0.9479 - val_loss: 0.3994 - val_accuracy: 0.8958 - 134s/epoch - 22s/step\n",
      "Epoch 20/30\n",
      "6/6 - 134s - loss: 0.0454 - accuracy: 0.9740 - val_loss: 0.2798 - val_accuracy: 0.8958 - 134s/epoch - 22s/step\n",
      "Epoch 21/30\n",
      "6/6 - 146s - loss: 0.1267 - accuracy: 0.9427 - val_loss: 0.2256 - val_accuracy: 0.9062 - 146s/epoch - 24s/step\n",
      "Epoch 22/30\n",
      "6/6 - 105s - loss: 0.0732 - accuracy: 0.9635 - val_loss: 0.3896 - val_accuracy: 0.8906 - 105s/epoch - 17s/step\n",
      "Epoch 23/30\n",
      "6/6 - 99s - loss: 0.0272 - accuracy: 0.9844 - val_loss: 0.3042 - val_accuracy: 0.9115 - 99s/epoch - 16s/step\n",
      "Epoch 24/30\n",
      "6/6 - 98s - loss: 0.0265 - accuracy: 0.9948 - val_loss: 0.2127 - val_accuracy: 0.9115 - 98s/epoch - 16s/step\n",
      "Epoch 25/30\n",
      "6/6 - 100s - loss: 0.0517 - accuracy: 0.9844 - val_loss: 0.2136 - val_accuracy: 0.9062 - 100s/epoch - 17s/step\n",
      "Epoch 26/30\n",
      "6/6 - 99s - loss: 0.0389 - accuracy: 0.9844 - val_loss: 0.2217 - val_accuracy: 0.9010 - 99s/epoch - 16s/step\n",
      "Epoch 27/30\n",
      "6/6 - 98s - loss: 0.0255 - accuracy: 0.9844 - val_loss: 0.3883 - val_accuracy: 0.8854 - 98s/epoch - 16s/step\n",
      "Epoch 28/30\n",
      "6/6 - 98s - loss: 0.0239 - accuracy: 0.9896 - val_loss: 0.2539 - val_accuracy: 0.9115 - 98s/epoch - 16s/step\n",
      "Epoch 29/30\n",
      "6/6 - 98s - loss: 0.0558 - accuracy: 0.9792 - val_loss: 0.2396 - val_accuracy: 0.9115 - 98s/epoch - 16s/step\n",
      "Epoch 30/30\n",
      "6/6 - 98s - loss: 0.0327 - accuracy: 0.9896 - val_loss: 0.2329 - val_accuracy: 0.9167 - 98s/epoch - 16s/step\n"
     ]
    },
    {
     "data": {
      "text/plain": [
       "<keras.callbacks.History at 0x2d88ad31b40>"
      ]
     },
     "execution_count": 15,
     "metadata": {},
     "output_type": "execute_result"
    }
   ],
   "source": [
    "model.fit(train_batches, steps_per_epoch=6, validation_data=valid_batches, validation_steps=6, epochs=30, verbose=2)"
   ]
  },
  {
   "cell_type": "code",
   "execution_count": 16,
   "id": "148323fc",
   "metadata": {},
   "outputs": [],
   "source": [
    "test_imgs, test_labels = next(test_batches)"
   ]
  },
  {
   "cell_type": "code",
   "execution_count": 17,
   "id": "eb61924c",
   "metadata": {},
   "outputs": [
    {
     "data": {
      "text/plain": [
       "array([1., 0., 0., 0., 1., 0., 0., 1., 0., 0., 1., 0., 0., 0., 0., 0., 1.,\n",
       "       1., 1., 1., 1., 1., 0., 1., 1., 1., 1., 0., 1., 0., 0., 0.],\n",
       "      dtype=float32)"
      ]
     },
     "execution_count": 17,
     "metadata": {},
     "output_type": "execute_result"
    }
   ],
   "source": [
    "test_labels = test_labels[:,0]\n",
    "test_labels"
   ]
  },
  {
   "cell_type": "code",
   "execution_count": 18,
   "id": "018233f3",
   "metadata": {},
   "outputs": [
    {
     "data": {
      "text/plain": [
       "array([[9.9919087e-01, 8.0908410e-04],\n",
       "       [7.0208444e-07, 9.9999923e-01],\n",
       "       [1.4807611e-03, 9.9851924e-01],\n",
       "       [5.1657689e-06, 9.9999481e-01],\n",
       "       [9.9990684e-01, 9.3122224e-05],\n",
       "       [1.2955287e-02, 9.8704469e-01],\n",
       "       [8.2343956e-03, 9.9176556e-01],\n",
       "       [2.4082359e-02, 9.7591758e-01],\n",
       "       [2.7458158e-03, 9.9725419e-01],\n",
       "       [1.1159118e-01, 8.8840878e-01],\n",
       "       [9.9909198e-01, 9.0802670e-04],\n",
       "       [8.6449212e-01, 1.3550781e-01],\n",
       "       [1.8655302e-01, 8.1344688e-01],\n",
       "       [4.4341919e-01, 5.5658084e-01],\n",
       "       [6.6355242e-05, 9.9993354e-01],\n",
       "       [1.9687041e-08, 9.9999994e-01],\n",
       "       [9.8459023e-01, 1.5409743e-02],\n",
       "       [9.9999923e-01, 7.2768205e-07],\n",
       "       [9.9883300e-01, 1.1670503e-03],\n",
       "       [9.9999970e-01, 2.2528620e-07],\n",
       "       [9.9773186e-01, 2.2681260e-03],\n",
       "       [9.9999934e-01, 6.4134548e-07],\n",
       "       [1.3445620e-05, 9.9998647e-01],\n",
       "       [9.8425341e-01, 1.5746595e-02],\n",
       "       [9.9446845e-01, 5.5315676e-03],\n",
       "       [9.0224457e-01, 9.7755380e-02],\n",
       "       [9.9999994e-01, 4.0490236e-11],\n",
       "       [1.3310707e-01, 8.6689287e-01],\n",
       "       [9.8035330e-01, 1.9646624e-02],\n",
       "       [3.8138495e-07, 9.9999958e-01],\n",
       "       [6.8239184e-05, 9.9993175e-01],\n",
       "       [9.0931962e-06, 9.9999088e-01]], dtype=float32)"
      ]
     },
     "execution_count": 18,
     "metadata": {},
     "output_type": "execute_result"
    }
   ],
   "source": [
    "predictions = model.predict(test_batches, steps = 1, verbose = 0)\n",
    "predictions"
   ]
  },
  {
   "cell_type": "code",
   "execution_count": 19,
   "id": "e7e612e8",
   "metadata": {},
   "outputs": [],
   "source": [
    "def plot_confusion_matrix(cm, classes,\n",
    "                          normalize=False,\n",
    "                          title='Confusion matrix',\n",
    "                          cmap=plt.cm.Blues):\n",
    "    \"\"\"\n",
    "    This function prints and plots the confusion matrix.\n",
    "    Normalization can be applied by setting `normalize=True`.\n",
    "    \"\"\"\n",
    "    plt.imshow(cm, interpolation='nearest', cmap=cmap)\n",
    "    plt.title(title)\n",
    "    plt.colorbar()\n",
    "    tick_marks = np.arange(len(classes))\n",
    "    plt.xticks(tick_marks, classes, rotation=45)\n",
    "    plt.yticks(tick_marks, classes)\n",
    "\n",
    "    if normalize:\n",
    "        cm = cm.astype('float') / cm.sum(axis=1)[:, np.newaxis]\n",
    "        print(\"Normalized confusion matrix\")\n",
    "    else:\n",
    "        print('Confusion matrix, without normalization')\n",
    "\n",
    "    print(cm)\n",
    "\n",
    "    thresh = cm.max() / 2.\n",
    "    for i, j in itertools.product(range(cm.shape[0]), range(cm.shape[1])):\n",
    "        plt.text(j, i, cm[i, j],\n",
    "                 horizontalalignment=\"center\",\n",
    "                 color=\"white\" if cm[i, j] > thresh else \"black\")\n",
    "\n",
    "    plt.tight_layout()\n",
    "    plt.ylabel('True label')\n",
    "    plt.xlabel('Predicted label')"
   ]
  },
  {
   "cell_type": "code",
   "execution_count": 20,
   "id": "fe16a32d",
   "metadata": {},
   "outputs": [],
   "source": [
    "cm = confusion_matrix(test_labels, np.round(predictions[:,0]))"
   ]
  },
  {
   "cell_type": "code",
   "execution_count": 21,
   "id": "12d353fe",
   "metadata": {},
   "outputs": [
    {
     "name": "stdout",
     "output_type": "stream",
     "text": [
      "Confusion matrix, without normalization\n",
      "[[16  1]\n",
      " [ 1 14]]\n"
     ]
    },
    {
     "data": {
      "image/png": "[encoded data removed]",
      "text/plain": [
       "<Figure size 640x480 with 2 Axes>"
      ]
     },
     "metadata": {},
     "output_type": "display_data"
    }
   ],
   "source": [
    "cm_plot_labels = ['abnormal', 'normal']\n",
    "plot_confusion_matrix(cm, cm_plot_labels, title='Confusion Matrix')"
   ]
  },
  {
   "cell_type": "code",
   "execution_count": null,
   "id": "66d145b2",
   "metadata": {},
   "outputs": [],
   "source": []
  }
 ],
 "metadata": {
  "kernelspec": {
   "display_name": "Python 3 (ipykernel)",
   "language": "python",
   "name": "python3"
  },
  "language_info": {
   "codemirror_mode": {
    "name": "ipython",
    "version": 3
   },
   "file_extension": ".py",
   "mimetype": "text/x-python",
   "name": "python",
   "nbconvert_exporter": "python",
   "pygments_lexer": "ipython3",
   "version": "3.10.9"
  }
 },
 "nbformat": 4,
 "nbformat_minor": 5
}
