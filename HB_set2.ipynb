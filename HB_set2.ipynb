{
 "cells": [
  {
   "cell_type": "code",
   "execution_count": 1,
   "id": "e5fdb612",
   "metadata": {},
   "outputs": [],
   "source": [
    "import numpy as np\n",
    "import keras\n",
    "from keras import backend as K\n",
    "from keras.models import Sequential\n",
    "from keras.layers import Activation\n",
    "from keras.layers.core import Dense, Flatten\n",
    "from keras.optimizers import Adam\n",
    "from keras.metrics import categorical_crossentropy\n",
    "from keras.preprocessing.image import ImageDataGenerator\n",
    "from tensorflow.keras.layers import BatchNormalization\n",
    "from keras.layers.convolutional import *\n",
    "from matplotlib import pyplot as plt\n",
    "from sklearn.metrics import confusion_matrix\n",
    "import itertools\n",
    "import matplotlib.pyplot as plt\n",
    "%matplotlib inline"
   ]
  },
  {
   "cell_type": "code",
   "execution_count": 2,
   "id": "3484676c",
   "metadata": {},
   "outputs": [],
   "source": [
    "train_path='D:/Ramazan/ЗАГРУЗКИ/ECG_images_dataset/4FoldCV_HB/set2/training_set'\n",
    "valid_path='D:/Ramazan/ЗАГРУЗКИ/ECG_images_dataset/4FoldCV_HB/set2/validation_set'\n",
    "test_path='D:/Ramazan/ЗАГРУЗКИ/ECG_images_dataset/4FoldCV_HB/set2/testing_set'"
   ]
  },
  {
   "cell_type": "code",
   "execution_count": 3,
   "id": "67a2ba07",
   "metadata": {},
   "outputs": [
    {
     "name": "stdout",
     "output_type": "stream",
     "text": [
      "Found 192 images belonging to 2 classes.\n",
      "Found 192 images belonging to 2 classes.\n",
      "Found 64 images belonging to 2 classes.\n"
     ]
    }
   ],
   "source": [
    "train_batches=ImageDataGenerator().flow_from_directory(train_path,target_size=(224,224),classes=['abnormal', 'normal'], batch_size=32)\n",
    "valid_batches=ImageDataGenerator().flow_from_directory(valid_path,target_size=(224,224),classes=['abnormal', 'normal'], batch_size=32)\n",
    "test_batches=ImageDataGenerator().flow_from_directory(test_path,target_size=(224,224),classes=['abnormal', 'normal'], batch_size=32)"
   ]
  },
  {
   "cell_type": "code",
   "execution_count": 4,
   "id": "61b1855d",
   "metadata": {},
   "outputs": [],
   "source": [
    "def plots(ims, figsize=(12,6), rows=1, interp=False, titles=None):\n",
    "    if type(ims[0]) is np.ndarray:\n",
    "        ims= np.array(ims).astype(np.uint8)\n",
    "        if (ims.shape[-1] != 3):\n",
    "            ims = ims.transpose((0,2,3,1))\n",
    "    f = plt.figure(figsize=figsize)\n",
    "    cols = len(ims)//rows if len(ims) % 2 == 0 else len(ims)//rows + 1\n",
    "    for i in range(len(ims)):\n",
    "        sp = f.add_subplot(rows, cols, i+1)\n",
    "        sp.axis('off')\n",
    "        if titles is not None:\n",
    "            sp.set_title(titles[i], fontsize=16)\n",
    "        plt.imshow(ims[i], interpolation=None if interp else 'none')"
   ]
  },
  {
   "cell_type": "code",
   "execution_count": 5,
   "id": "2ae42dcb",
   "metadata": {},
   "outputs": [],
   "source": [
    "imgs, labels = next(train_batches)"
   ]
  },
  {
   "cell_type": "code",
   "execution_count": 6,
   "id": "bc10b0d9",
   "metadata": {},
   "outputs": [],
   "source": [
    "vgg16_model = keras.applications.vgg16.VGG16()"
   ]
  },
  {
   "cell_type": "code",
   "execution_count": 7,
   "id": "189ff0f5",
   "metadata": {},
   "outputs": [],
   "source": [
    "model = Sequential()\n",
    "for layer in vgg16_model.layers[:-1]:\n",
    "    model.add(layer)    "
   ]
  },
  {
   "cell_type": "code",
   "execution_count": 8,
   "id": "0745e93f",
   "metadata": {},
   "outputs": [],
   "source": [
    "for layer in model.layers:\n",
    "    layer.trainable = False"
   ]
  },
  {
   "cell_type": "code",
   "execution_count": 9,
   "id": "e15ea3b1",
   "metadata": {},
   "outputs": [],
   "source": [
    "model.add(Dense(2, activation='softmax'))"
   ]
  },
  {
   "cell_type": "code",
   "execution_count": 10,
   "id": "1ff4d90c",
   "metadata": {},
   "outputs": [
    {
     "name": "stdout",
     "output_type": "stream",
     "text": [
      "Model: \"sequential\"\n",
      "_________________________________________________________________\n",
      " Layer (type)                Output Shape              Param #   \n",
      "=================================================================\n",
      " block1_conv1 (Conv2D)       (None, 224, 224, 64)      1792      \n",
      "                                                                 \n",
      " block1_conv2 (Conv2D)       (None, 224, 224, 64)      36928     \n",
      "                                                                 \n",
      " block1_pool (MaxPooling2D)  (None, 112, 112, 64)      0         \n",
      "                                                                 \n",
      " block2_conv1 (Conv2D)       (None, 112, 112, 128)     73856     \n",
      "                                                                 \n",
      " block2_conv2 (Conv2D)       (None, 112, 112, 128)     147584    \n",
      "                                                                 \n",
      " block2_pool (MaxPooling2D)  (None, 56, 56, 128)       0         \n",
      "                                                                 \n",
      " block3_conv1 (Conv2D)       (None, 56, 56, 256)       295168    \n",
      "                                                                 \n",
      " block3_conv2 (Conv2D)       (None, 56, 56, 256)       590080    \n",
      "                                                                 \n",
      " block3_conv3 (Conv2D)       (None, 56, 56, 256)       590080    \n",
      "                                                                 \n",
      " block3_pool (MaxPooling2D)  (None, 28, 28, 256)       0         \n",
      "                                                                 \n",
      " block4_conv1 (Conv2D)       (None, 28, 28, 512)       1180160   \n",
      "                                                                 \n",
      " block4_conv2 (Conv2D)       (None, 28, 28, 512)       2359808   \n",
      "                                                                 \n",
      " block4_conv3 (Conv2D)       (None, 28, 28, 512)       2359808   \n",
      "                                                                 \n",
      " block4_pool (MaxPooling2D)  (None, 14, 14, 512)       0         \n",
      "                                                                 \n",
      " block5_conv1 (Conv2D)       (None, 14, 14, 512)       2359808   \n",
      "                                                                 \n",
      " block5_conv2 (Conv2D)       (None, 14, 14, 512)       2359808   \n",
      "                                                                 \n",
      " block5_conv3 (Conv2D)       (None, 14, 14, 512)       2359808   \n",
      "                                                                 \n",
      " block5_pool (MaxPooling2D)  (None, 7, 7, 512)         0         \n",
      "                                                                 \n",
      " flatten (Flatten)           (None, 25088)             0         \n",
      "                                                                 \n",
      " fc1 (Dense)                 (None, 4096)              102764544 \n",
      "                                                                 \n",
      " fc2 (Dense)                 (None, 4096)              16781312  \n",
      "                                                                 \n",
      " dense (Dense)               (None, 2)                 8194      \n",
      "                                                                 \n",
      "=================================================================\n",
      "Total params: 134,268,738\n",
      "Trainable params: 8,194\n",
      "Non-trainable params: 134,260,544\n",
      "_________________________________________________________________\n"
     ]
    }
   ],
   "source": [
    "model.summary()"
   ]
  },
  {
   "cell_type": "code",
   "execution_count": 11,
   "id": "f33fe176",
   "metadata": {},
   "outputs": [],
   "source": [
    "model.compile(Adam(learning_rate=.01), loss='categorical_crossentropy', metrics=['accuracy'])"
   ]
  },
  {
   "cell_type": "code",
   "execution_count": 12,
   "id": "6b889774",
   "metadata": {},
   "outputs": [
    {
     "name": "stdout",
     "output_type": "stream",
     "text": [
      "Epoch 1/18\n",
      "6/6 - 107s - loss: 12.3486 - accuracy: 0.5625 - val_loss: 13.1767 - val_accuracy: 0.5000 - 107s/epoch - 18s/step\n",
      "Epoch 2/18\n",
      "6/6 - 131s - loss: 6.2861 - accuracy: 0.5885 - val_loss: 1.1198 - val_accuracy: 0.7812 - 131s/epoch - 22s/step\n",
      "Epoch 3/18\n",
      "6/6 - 119s - loss: 3.6130 - accuracy: 0.6458 - val_loss: 4.4469 - val_accuracy: 0.6406 - 119s/epoch - 20s/step\n",
      "Epoch 4/18\n",
      "6/6 - 97s - loss: 3.0642 - accuracy: 0.7448 - val_loss: 2.7893 - val_accuracy: 0.7344 - 97s/epoch - 16s/step\n",
      "Epoch 5/18\n",
      "6/6 - 96s - loss: 1.8172 - accuracy: 0.8073 - val_loss: 3.2995 - val_accuracy: 0.6875 - 96s/epoch - 16s/step\n",
      "Epoch 6/18\n",
      "6/6 - 96s - loss: 1.4073 - accuracy: 0.8385 - val_loss: 1.2213 - val_accuracy: 0.8542 - 96s/epoch - 16s/step\n",
      "Epoch 7/18\n",
      "6/6 - 96s - loss: 0.5545 - accuracy: 0.9010 - val_loss: 1.3918 - val_accuracy: 0.8177 - 96s/epoch - 16s/step\n",
      "Epoch 8/18\n",
      "6/6 - 97s - loss: 0.5697 - accuracy: 0.9010 - val_loss: 1.1733 - val_accuracy: 0.8542 - 97s/epoch - 16s/step\n",
      "Epoch 9/18\n",
      "6/6 - 96s - loss: 0.3684 - accuracy: 0.9010 - val_loss: 1.5159 - val_accuracy: 0.7812 - 96s/epoch - 16s/step\n",
      "Epoch 10/18\n",
      "6/6 - 97s - loss: 0.7818 - accuracy: 0.8750 - val_loss: 1.4716 - val_accuracy: 0.8281 - 97s/epoch - 16s/step\n",
      "Epoch 11/18\n",
      "6/6 - 96s - loss: 0.3112 - accuracy: 0.9115 - val_loss: 1.2040 - val_accuracy: 0.8125 - 96s/epoch - 16s/step\n",
      "Epoch 12/18\n",
      "6/6 - 96s - loss: 0.3528 - accuracy: 0.9271 - val_loss: 0.8363 - val_accuracy: 0.8802 - 96s/epoch - 16s/step\n",
      "Epoch 13/18\n",
      "6/6 - 94s - loss: 0.2183 - accuracy: 0.9479 - val_loss: 0.8396 - val_accuracy: 0.8490 - 94s/epoch - 16s/step\n",
      "Epoch 14/18\n",
      "6/6 - 94s - loss: 0.3356 - accuracy: 0.9062 - val_loss: 0.6854 - val_accuracy: 0.8594 - 94s/epoch - 16s/step\n",
      "Epoch 15/18\n",
      "6/6 - 94s - loss: 0.2681 - accuracy: 0.9219 - val_loss: 0.6315 - val_accuracy: 0.8750 - 94s/epoch - 16s/step\n",
      "Epoch 16/18\n",
      "6/6 - 94s - loss: 0.3647 - accuracy: 0.9219 - val_loss: 1.2977 - val_accuracy: 0.7865 - 94s/epoch - 16s/step\n",
      "Epoch 17/18\n",
      "6/6 - 94s - loss: 0.3535 - accuracy: 0.9062 - val_loss: 0.8066 - val_accuracy: 0.8906 - 94s/epoch - 16s/step\n",
      "Epoch 18/18\n",
      "6/6 - 94s - loss: 0.1547 - accuracy: 0.9427 - val_loss: 0.7331 - val_accuracy: 0.8594 - 94s/epoch - 16s/step\n"
     ]
    },
    {
     "data": {
      "text/plain": [
       "<keras.callbacks.History at 0x244a5a353c0>"
      ]
     },
     "execution_count": 12,
     "metadata": {},
     "output_type": "execute_result"
    }
   ],
   "source": [
    "model.fit(train_batches, steps_per_epoch=6, validation_data=valid_batches, validation_steps=6, epochs=18, verbose=2)"
   ]
  },
  {
   "cell_type": "code",
   "execution_count": 13,
   "id": "5f252373",
   "metadata": {},
   "outputs": [],
   "source": [
    "test_imgs, test_labels = next(test_batches)"
   ]
  },
  {
   "cell_type": "code",
   "execution_count": 14,
   "id": "4b7fe4e9",
   "metadata": {},
   "outputs": [
    {
     "data": {
      "text/plain": [
       "array([0., 1., 0., 0., 1., 1., 0., 0., 0., 1., 0., 1., 1., 1., 1., 1., 1.,\n",
       "       0., 0., 1., 0., 0., 1., 1., 0., 0., 0., 1., 1., 1., 1., 1.],\n",
       "      dtype=float32)"
      ]
     },
     "execution_count": 14,
     "metadata": {},
     "output_type": "execute_result"
    }
   ],
   "source": [
    "test_labels = test_labels[:,0]\n",
    "test_labels"
   ]
  },
  {
   "cell_type": "code",
   "execution_count": 15,
   "id": "b5fe611b",
   "metadata": {},
   "outputs": [
    {
     "data": {
      "text/plain": [
       "array([[4.3997275e-11, 9.9999994e-01],\n",
       "       [9.9953169e-01, 4.6830645e-04],\n",
       "       [7.4449934e-05, 9.9992543e-01],\n",
       "       [1.6758154e-08, 9.9999994e-01],\n",
       "       [7.7273864e-01, 2.2726132e-01],\n",
       "       [9.9999994e-01, 8.3468701e-12],\n",
       "       [8.6988509e-01, 1.3011494e-01],\n",
       "       [1.1215074e-07, 9.9999982e-01],\n",
       "       [8.2854909e-01, 1.7145093e-01],\n",
       "       [9.9999994e-01, 2.9512048e-09],\n",
       "       [1.8955339e-01, 8.1044668e-01],\n",
       "       [9.9999934e-01, 6.4257051e-07],\n",
       "       [9.9999994e-01, 6.9467226e-16],\n",
       "       [9.9999994e-01, 2.8249855e-12],\n",
       "       [9.6762621e-01, 3.2373831e-02],\n",
       "       [9.9999994e-01, 7.4020009e-31],\n",
       "       [9.9999553e-01, 4.4140425e-06],\n",
       "       [8.2589168e-08, 9.9999982e-01],\n",
       "       [3.6622849e-09, 9.9999994e-01],\n",
       "       [9.9999994e-01, 4.8021658e-26],\n",
       "       [3.4418929e-10, 9.9999994e-01],\n",
       "       [9.9631923e-01, 3.6806569e-03],\n",
       "       [9.9508560e-01, 4.9142814e-03],\n",
       "       [9.9999994e-01, 6.5752824e-12],\n",
       "       [9.9245989e-09, 9.9999994e-01],\n",
       "       [6.2592022e-07, 9.9999934e-01],\n",
       "       [1.1733467e-12, 9.9999994e-01],\n",
       "       [9.9999994e-01, 1.2302086e-15],\n",
       "       [9.8770738e-01, 1.2292586e-02],\n",
       "       [9.9999994e-01, 7.3278356e-11],\n",
       "       [9.2544192e-01, 7.4558049e-02],\n",
       "       [9.9999994e-01, 1.2677673e-18]], dtype=float32)"
      ]
     },
     "execution_count": 15,
     "metadata": {},
     "output_type": "execute_result"
    }
   ],
   "source": [
    "predictions = model.predict(test_batches, steps = 1, verbose = 0)\n",
    "predictions"
   ]
  },
  {
   "cell_type": "code",
   "execution_count": 16,
   "id": "0af14ec5",
   "metadata": {},
   "outputs": [],
   "source": [
    "def plot_confusion_matrix(cm, classes,\n",
    "                          normalize=False,\n",
    "                          title='Confusion matrix',\n",
    "                          cmap=plt.cm.Blues):\n",
    "    \"\"\"\n",
    "    This function prints and plots the confusion matrix.\n",
    "    Normalization can be applied by setting `normalize=True`.\n",
    "    \"\"\"\n",
    "    plt.imshow(cm, interpolation='nearest', cmap=cmap)\n",
    "    plt.title(title)\n",
    "    plt.colorbar()\n",
    "    tick_marks = np.arange(len(classes))\n",
    "    plt.xticks(tick_marks, classes, rotation=45)\n",
    "    plt.yticks(tick_marks, classes)\n",
    "\n",
    "    if normalize:\n",
    "        cm = cm.astype('float') / cm.sum(axis=1)[:, np.newaxis]\n",
    "        print(\"Normalized confusion matrix\")\n",
    "    else:\n",
    "        print('Confusion matrix, without normalization')\n",
    "\n",
    "    print(cm)\n",
    "\n",
    "    thresh = cm.max() / 2.\n",
    "    for i, j in itertools.product(range(cm.shape[0]), range(cm.shape[1])):\n",
    "        plt.text(j, i, cm[i, j],\n",
    "                 horizontalalignment=\"center\",\n",
    "                 color=\"white\" if cm[i, j] > thresh else \"black\")\n",
    "\n",
    "    plt.tight_layout()\n",
    "    plt.ylabel('True label')\n",
    "    plt.xlabel('Predicted label')"
   ]
  },
  {
   "cell_type": "code",
   "execution_count": 17,
   "id": "20faadd6",
   "metadata": {},
   "outputs": [],
   "source": [
    "cm = confusion_matrix(test_labels, np.round(predictions[:,0]))"
   ]
  },
  {
   "cell_type": "code",
   "execution_count": 18,
   "id": "4055acf5",
   "metadata": {},
   "outputs": [
    {
     "name": "stdout",
     "output_type": "stream",
     "text": [
      "Confusion matrix, without normalization\n",
      "[[11  3]\n",
      " [ 0 18]]\n"
     ]
    },
    {
     "data": {
      "image/png": "[encoded data removed]",
      "text/plain": [
       "<Figure size 640x480 with 2 Axes>"
      ]
     },
     "metadata": {},
     "output_type": "display_data"
    }
   ],
   "source": [
    "cm_plot_labels = ['abnormal', 'normal']\n",
    "plot_confusion_matrix(cm, cm_plot_labels, title='Confusion Matrix')"
   ]
  },
  {
   "cell_type": "code",
   "execution_count": null,
   "id": "33ff6dc4",
   "metadata": {},
   "outputs": [],
   "source": []
  }
 ],
 "metadata": {
  "kernelspec": {
   "display_name": "Python 3 (ipykernel)",
   "language": "python",
   "name": "python3"
  },
  "language_info": {
   "codemirror_mode": {
    "name": "ipython",
    "version": 3
   },
   "file_extension": ".py",
   "mimetype": "text/x-python",
   "name": "python",
   "nbconvert_exporter": "python",
   "pygments_lexer": "ipython3",
   "version": "3.10.9"
  }
 },
 "nbformat": 4,
 "nbformat_minor": 5
}
