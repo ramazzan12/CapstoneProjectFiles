{
 "cells": [
  {
   "cell_type": "code",
   "execution_count": 1,
   "id": "0773b259",
   "metadata": {},
   "outputs": [],
   "source": [
    "import numpy as np\n",
    "import keras\n",
    "from keras import backend as K\n",
    "from keras.models import Sequential\n",
    "from keras.layers import Activation\n",
    "from keras.layers.core import Dense, Flatten\n",
    "from keras.optimizers import Adam\n",
    "from keras.metrics import categorical_crossentropy\n",
    "from keras.preprocessing.image import ImageDataGenerator\n",
    "from tensorflow.keras.layers import BatchNormalization\n",
    "from keras.layers.convolutional import *\n",
    "from matplotlib import pyplot as plt\n",
    "from sklearn.metrics import confusion_matrix\n",
    "import itertools\n",
    "import matplotlib.pyplot as plt\n",
    "%matplotlib inline"
   ]
  },
  {
   "cell_type": "code",
   "execution_count": 2,
   "id": "42d331af",
   "metadata": {},
   "outputs": [],
   "source": [
    "train_path='D:/Ramazan/ЗАГРУЗКИ/ECG_images_dataset/4FoldCV/set4/training_set'\n",
    "valid_path='D:/Ramazan/ЗАГРУЗКИ/ECG_images_dataset/4FoldCV/set4/validation_set'\n",
    "test_path='D:/Ramazan/ЗАГРУЗКИ/ECG_images_dataset/4FoldCV/set4/testing_set'"
   ]
  },
  {
   "cell_type": "code",
   "execution_count": 3,
   "id": "528829d0",
   "metadata": {},
   "outputs": [
    {
     "name": "stdout",
     "output_type": "stream",
     "text": [
      "Found 192 images belonging to 2 classes.\n",
      "Found 192 images belonging to 2 classes.\n",
      "Found 64 images belonging to 2 classes.\n"
     ]
    }
   ],
   "source": [
    "train_batches=ImageDataGenerator().flow_from_directory(train_path,target_size=(224,224),classes=['abnormal', 'normal'], batch_size=32)\n",
    "valid_batches=ImageDataGenerator().flow_from_directory(valid_path,target_size=(224,224),classes=['abnormal', 'normal'], batch_size=32)\n",
    "test_batches=ImageDataGenerator().flow_from_directory(test_path,target_size=(224,224),classes=['abnormal', 'normal'], batch_size=32)"
   ]
  },
  {
   "cell_type": "code",
   "execution_count": 4,
   "id": "29225fbb",
   "metadata": {},
   "outputs": [],
   "source": [
    "def plots(ims, figsize=(12,6), rows=1, interp=False, titles=None):\n",
    "    if type(ims[0]) is np.ndarray:\n",
    "        ims= np.array(ims).astype(np.uint8)\n",
    "        if (ims.shape[-1] != 3):\n",
    "            ims = ims.transpose((0,2,3,1))\n",
    "    f = plt.figure(figsize=figsize)\n",
    "    cols = len(ims)//rows if len(ims) % 2 == 0 else len(ims)//rows + 1\n",
    "    for i in range(len(ims)):\n",
    "        sp = f.add_subplot(rows, cols, i+1)\n",
    "        sp.axis('off')\n",
    "        if titles is not None:\n",
    "            sp.set_title(titles[i], fontsize=16)\n",
    "        plt.imshow(ims[i], interpolation=None if interp else 'none')"
   ]
  },
  {
   "cell_type": "code",
   "execution_count": 5,
   "id": "17c4a195",
   "metadata": {},
   "outputs": [],
   "source": [
    "imgs, labels = next(train_batches)"
   ]
  },
  {
   "cell_type": "code",
   "execution_count": 6,
   "id": "337e53eb",
   "metadata": {},
   "outputs": [],
   "source": [
    "vgg16_model = keras.applications.vgg16.VGG16()"
   ]
  },
  {
   "cell_type": "code",
   "execution_count": 7,
   "id": "d433ed42",
   "metadata": {},
   "outputs": [],
   "source": [
    "model = Sequential()\n",
    "for layer in vgg16_model.layers[:-1]:\n",
    "    model.add(layer)    "
   ]
  },
  {
   "cell_type": "code",
   "execution_count": 8,
   "id": "8d6d7853",
   "metadata": {},
   "outputs": [],
   "source": [
    "for layer in model.layers:\n",
    "    layer.trainable = False"
   ]
  },
  {
   "cell_type": "code",
   "execution_count": 9,
   "id": "c966f3b8",
   "metadata": {},
   "outputs": [],
   "source": [
    "model.add(Dense(2, activation='softmax'))"
   ]
  },
  {
   "cell_type": "code",
   "execution_count": 10,
   "id": "a176fb42",
   "metadata": {},
   "outputs": [
    {
     "name": "stdout",
     "output_type": "stream",
     "text": [
      "Model: \"sequential\"\n",
      "_________________________________________________________________\n",
      " Layer (type)                Output Shape              Param #   \n",
      "=================================================================\n",
      " block1_conv1 (Conv2D)       (None, 224, 224, 64)      1792      \n",
      "                                                                 \n",
      " block1_conv2 (Conv2D)       (None, 224, 224, 64)      36928     \n",
      "                                                                 \n",
      " block1_pool (MaxPooling2D)  (None, 112, 112, 64)      0         \n",
      "                                                                 \n",
      " block2_conv1 (Conv2D)       (None, 112, 112, 128)     73856     \n",
      "                                                                 \n",
      " block2_conv2 (Conv2D)       (None, 112, 112, 128)     147584    \n",
      "                                                                 \n",
      " block2_pool (MaxPooling2D)  (None, 56, 56, 128)       0         \n",
      "                                                                 \n",
      " block3_conv1 (Conv2D)       (None, 56, 56, 256)       295168    \n",
      "                                                                 \n",
      " block3_conv2 (Conv2D)       (None, 56, 56, 256)       590080    \n",
      "                                                                 \n",
      " block3_conv3 (Conv2D)       (None, 56, 56, 256)       590080    \n",
      "                                                                 \n",
      " block3_pool (MaxPooling2D)  (None, 28, 28, 256)       0         \n",
      "                                                                 \n",
      " block4_conv1 (Conv2D)       (None, 28, 28, 512)       1180160   \n",
      "                                                                 \n",
      " block4_conv2 (Conv2D)       (None, 28, 28, 512)       2359808   \n",
      "                                                                 \n",
      " block4_conv3 (Conv2D)       (None, 28, 28, 512)       2359808   \n",
      "                                                                 \n",
      " block4_pool (MaxPooling2D)  (None, 14, 14, 512)       0         \n",
      "                                                                 \n",
      " block5_conv1 (Conv2D)       (None, 14, 14, 512)       2359808   \n",
      "                                                                 \n",
      " block5_conv2 (Conv2D)       (None, 14, 14, 512)       2359808   \n",
      "                                                                 \n",
      " block5_conv3 (Conv2D)       (None, 14, 14, 512)       2359808   \n",
      "                                                                 \n",
      " block5_pool (MaxPooling2D)  (None, 7, 7, 512)         0         \n",
      "                                                                 \n",
      " flatten (Flatten)           (None, 25088)             0         \n",
      "                                                                 \n",
      " fc1 (Dense)                 (None, 4096)              102764544 \n",
      "                                                                 \n",
      " fc2 (Dense)                 (None, 4096)              16781312  \n",
      "                                                                 \n",
      " dense (Dense)               (None, 2)                 8194      \n",
      "                                                                 \n",
      "=================================================================\n",
      "Total params: 134,268,738\n",
      "Trainable params: 8,194\n",
      "Non-trainable params: 134,260,544\n",
      "_________________________________________________________________\n"
     ]
    }
   ],
   "source": [
    "model.summary()"
   ]
  },
  {
   "cell_type": "code",
   "execution_count": 11,
   "id": "4ef8ce69",
   "metadata": {},
   "outputs": [],
   "source": [
    "model.compile(Adam(learning_rate=.01), loss='categorical_crossentropy', metrics=['accuracy'])"
   ]
  },
  {
   "cell_type": "code",
   "execution_count": 12,
   "id": "1fcb9381",
   "metadata": {},
   "outputs": [
    {
     "name": "stdout",
     "output_type": "stream",
     "text": [
      "Epoch 1/16\n",
      "6/6 - 97s - loss: 12.6051 - accuracy: 0.5417 - val_loss: 10.7386 - val_accuracy: 0.5000 - 97s/epoch - 16s/step\n",
      "Epoch 2/16\n",
      "6/6 - 97s - loss: 9.0769 - accuracy: 0.4583 - val_loss: 0.3579 - val_accuracy: 0.8802 - 97s/epoch - 16s/step\n",
      "Epoch 3/16\n",
      "6/6 - 95s - loss: 3.8583 - accuracy: 0.5833 - val_loss: 4.7582 - val_accuracy: 0.5156 - 95s/epoch - 16s/step\n",
      "Epoch 4/16\n",
      "6/6 - 96s - loss: 2.8764 - accuracy: 0.6562 - val_loss: 2.2277 - val_accuracy: 0.6562 - 96s/epoch - 16s/step\n",
      "Epoch 5/16\n",
      "6/6 - 96s - loss: 1.3145 - accuracy: 0.7656 - val_loss: 0.4597 - val_accuracy: 0.8542 - 96s/epoch - 16s/step\n",
      "Epoch 6/16\n",
      "6/6 - 95s - loss: 1.1045 - accuracy: 0.8125 - val_loss: 1.4988 - val_accuracy: 0.7396 - 95s/epoch - 16s/step\n",
      "Epoch 7/16\n",
      "6/6 - 95s - loss: 1.3321 - accuracy: 0.7969 - val_loss: 1.6013 - val_accuracy: 0.7396 - 95s/epoch - 16s/step\n",
      "Epoch 8/16\n",
      "6/6 - 96s - loss: 1.0375 - accuracy: 0.7812 - val_loss: 0.4444 - val_accuracy: 0.8958 - 96s/epoch - 16s/step\n",
      "Epoch 9/16\n",
      "6/6 - 96s - loss: 0.9846 - accuracy: 0.8229 - val_loss: 0.9534 - val_accuracy: 0.8021 - 96s/epoch - 16s/step\n",
      "Epoch 10/16\n",
      "6/6 - 96s - loss: 0.8617 - accuracy: 0.8177 - val_loss: 0.6221 - val_accuracy: 0.8490 - 96s/epoch - 16s/step\n",
      "Epoch 11/16\n",
      "6/6 - 96s - loss: 1.0409 - accuracy: 0.8021 - val_loss: 0.7622 - val_accuracy: 0.8594 - 96s/epoch - 16s/step\n",
      "Epoch 12/16\n",
      "6/6 - 96s - loss: 0.5324 - accuracy: 0.8646 - val_loss: 0.2950 - val_accuracy: 0.9219 - 96s/epoch - 16s/step\n",
      "Epoch 13/16\n",
      "6/6 - 96s - loss: 0.2785 - accuracy: 0.9375 - val_loss: 0.2433 - val_accuracy: 0.9271 - 96s/epoch - 16s/step\n",
      "Epoch 14/16\n",
      "6/6 - 95s - loss: 0.3033 - accuracy: 0.9167 - val_loss: 0.2957 - val_accuracy: 0.9115 - 95s/epoch - 16s/step\n",
      "Epoch 15/16\n",
      "6/6 - 95s - loss: 0.2489 - accuracy: 0.9271 - val_loss: 0.1859 - val_accuracy: 0.9375 - 95s/epoch - 16s/step\n",
      "Epoch 16/16\n",
      "6/6 - 96s - loss: 0.2345 - accuracy: 0.9427 - val_loss: 0.2797 - val_accuracy: 0.9010 - 96s/epoch - 16s/step\n"
     ]
    },
    {
     "data": {
      "text/plain": [
       "<keras.callbacks.History at 0x1c73d73dd20>"
      ]
     },
     "execution_count": 12,
     "metadata": {},
     "output_type": "execute_result"
    }
   ],
   "source": [
    "model.fit(train_batches, steps_per_epoch=6, validation_data=valid_batches, validation_steps=6, epochs=16, verbose=2)"
   ]
  },
  {
   "cell_type": "code",
   "execution_count": 13,
   "id": "d2e62b24",
   "metadata": {},
   "outputs": [],
   "source": [
    "test_imgs, test_labels = next(test_batches)"
   ]
  },
  {
   "cell_type": "code",
   "execution_count": 14,
   "id": "5023197f",
   "metadata": {},
   "outputs": [
    {
     "data": {
      "text/plain": [
       "array([1., 0., 0., 0., 1., 1., 1., 0., 0., 1., 0., 0., 0., 0., 0., 0., 1.,\n",
       "       0., 0., 1., 1., 0., 1., 0., 0., 1., 0., 1., 0., 1., 1., 1.],\n",
       "      dtype=float32)"
      ]
     },
     "execution_count": 14,
     "metadata": {},
     "output_type": "execute_result"
    }
   ],
   "source": [
    "test_labels = test_labels[:,0]\n",
    "test_labels"
   ]
  },
  {
   "cell_type": "code",
   "execution_count": 15,
   "id": "c690b73a",
   "metadata": {},
   "outputs": [
    {
     "data": {
      "text/plain": [
       "array([[9.5711458e-01, 4.2885449e-02],\n",
       "       [2.4576117e-03, 9.9754226e-01],\n",
       "       [8.9442503e-01, 1.0557490e-01],\n",
       "       [1.5927101e-02, 9.8407274e-01],\n",
       "       [9.9999994e-01, 1.8760431e-09],\n",
       "       [9.9974477e-01, 2.5525576e-04],\n",
       "       [9.9776512e-01, 2.2348578e-03],\n",
       "       [6.3037038e-01, 3.6962962e-01],\n",
       "       [2.5687234e-06, 9.9999732e-01],\n",
       "       [9.9990290e-01, 9.6973905e-05],\n",
       "       [3.9091441e-01, 6.0908556e-01],\n",
       "       [1.5465212e-04, 9.9984527e-01],\n",
       "       [6.3802850e-05, 9.9993616e-01],\n",
       "       [1.0466576e-04, 9.9989527e-01],\n",
       "       [8.7016135e-01, 1.2983859e-01],\n",
       "       [9.9962860e-01, 3.7145682e-04],\n",
       "       [9.9999994e-01, 1.5114707e-09],\n",
       "       [2.4968489e-01, 7.5031513e-01],\n",
       "       [4.6301805e-04, 9.9953693e-01],\n",
       "       [9.9994570e-01, 5.4192427e-05],\n",
       "       [9.9999374e-01, 6.1624537e-06],\n",
       "       [1.0968057e-03, 9.9890310e-01],\n",
       "       [9.9999970e-01, 2.3022635e-07],\n",
       "       [7.8360826e-02, 9.2163920e-01],\n",
       "       [3.0911807e-04, 9.9969089e-01],\n",
       "       [9.9999887e-01, 1.1307537e-06],\n",
       "       [8.2225806e-06, 9.9999171e-01],\n",
       "       [9.9999994e-01, 6.0685217e-09],\n",
       "       [8.8715458e-01, 1.1284547e-01],\n",
       "       [9.9999958e-01, 3.2758291e-07],\n",
       "       [9.9990243e-01, 9.7542434e-05],\n",
       "       [9.9953884e-01, 4.6111242e-04]], dtype=float32)"
      ]
     },
     "execution_count": 15,
     "metadata": {},
     "output_type": "execute_result"
    }
   ],
   "source": [
    "predictions = model.predict(test_batches, steps = 1, verbose = 0)\n",
    "predictions"
   ]
  },
  {
   "cell_type": "code",
   "execution_count": 16,
   "id": "f1b2255e",
   "metadata": {},
   "outputs": [],
   "source": [
    "def plot_confusion_matrix(cm, classes,\n",
    "                          normalize=False,\n",
    "                          title='Confusion matrix',\n",
    "                          cmap=plt.cm.Blues):\n",
    "    \"\"\"\n",
    "    This function prints and plots the confusion matrix.\n",
    "    Normalization can be applied by setting `normalize=True`.\n",
    "    \"\"\"\n",
    "    plt.imshow(cm, interpolation='nearest', cmap=cmap)\n",
    "    plt.title(title)\n",
    "    plt.colorbar()\n",
    "    tick_marks = np.arange(len(classes))\n",
    "    plt.xticks(tick_marks, classes, rotation=45)\n",
    "    plt.yticks(tick_marks, classes)\n",
    "\n",
    "    if normalize:\n",
    "        cm = cm.astype('float') / cm.sum(axis=1)[:, np.newaxis]\n",
    "        print(\"Normalized confusion matrix\")\n",
    "    else:\n",
    "        print('Confusion matrix, without normalization')\n",
    "\n",
    "    print(cm)\n",
    "\n",
    "    thresh = cm.max() / 2.\n",
    "    for i, j in itertools.product(range(cm.shape[0]), range(cm.shape[1])):\n",
    "        plt.text(j, i, cm[i, j],\n",
    "                 horizontalalignment=\"center\",\n",
    "                 color=\"white\" if cm[i, j] > thresh else \"black\")\n",
    "\n",
    "    plt.tight_layout()\n",
    "    plt.ylabel('True label')\n",
    "    plt.xlabel('Predicted label')"
   ]
  },
  {
   "cell_type": "code",
   "execution_count": 17,
   "id": "cadaeb53",
   "metadata": {},
   "outputs": [],
   "source": [
    "cm = confusion_matrix(test_labels, np.round(predictions[:,0]))"
   ]
  },
  {
   "cell_type": "code",
   "execution_count": 18,
   "id": "501ad82e",
   "metadata": {},
   "outputs": [
    {
     "name": "stdout",
     "output_type": "stream",
     "text": [
      "Confusion matrix, without normalization\n",
      "[[13  5]\n",
      " [ 0 14]]\n"
     ]
    },
    {
     "data": {
      "image/png": "[encoded data removed]",
      "text/plain": [
       "<Figure size 640x480 with 2 Axes>"
      ]
     },
     "metadata": {},
     "output_type": "display_data"
    }
   ],
   "source": [
    "cm_plot_labels = ['abnormal', 'normal']\n",
    "plot_confusion_matrix(cm, cm_plot_labels, title='Confusion Matrix')"
   ]
  },
  {
   "cell_type": "code",
   "execution_count": null,
   "id": "e7fedf68",
   "metadata": {},
   "outputs": [],
   "source": []
  }
 ],
 "metadata": {
  "kernelspec": {
   "display_name": "Python 3 (ipykernel)",
   "language": "python",
   "name": "python3"
  },
  "language_info": {
   "codemirror_mode": {
    "name": "ipython",
    "version": 3
   },
   "file_extension": ".py",
   "mimetype": "text/x-python",
   "name": "python",
   "nbconvert_exporter": "python",
   "pygments_lexer": "ipython3",
   "version": "3.10.9"
  }
 },
 "nbformat": 4,
 "nbformat_minor": 5
}
