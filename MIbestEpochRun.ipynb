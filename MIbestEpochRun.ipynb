{
 "cells": [
  {
   "cell_type": "code",
   "execution_count": 1,
   "id": "cba3dbf4",
   "metadata": {},
   "outputs": [],
   "source": [
    "import numpy as np\n",
    "import keras\n",
    "from keras import backend as K\n",
    "from keras.models import Sequential\n",
    "from keras.layers import Activation\n",
    "from keras.layers.core import Dense, Flatten\n",
    "from keras.optimizers import Adam\n",
    "from keras.metrics import categorical_crossentropy\n",
    "from keras.preprocessing.image import ImageDataGenerator\n",
    "from tensorflow.keras.layers import BatchNormalization\n",
    "from keras.layers.convolutional import *\n",
    "from matplotlib import pyplot as plt\n",
    "from sklearn.metrics import confusion_matrix\n",
    "import itertools\n",
    "import matplotlib.pyplot as plt\n",
    "%matplotlib inline"
   ]
  },
  {
   "cell_type": "code",
   "execution_count": 2,
   "id": "743e141f",
   "metadata": {},
   "outputs": [],
   "source": [
    "train_path='D:/Ramazan/ЗАГРУЗКИ/ECG_images_dataset/training_set'\n",
    "valid_path='D:/Ramazan/ЗАГРУЗКИ/ECG_images_dataset/valid_set'\n",
    "test_path='D:/Ramazan/ЗАГРУЗКИ/ECG_images_dataset/testing_set'"
   ]
  },
  {
   "cell_type": "code",
   "execution_count": 3,
   "id": "a57d0aab",
   "metadata": {},
   "outputs": [
    {
     "name": "stdout",
     "output_type": "stream",
     "text": [
      "Found 192 images belonging to 2 classes.\n",
      "Found 192 images belonging to 2 classes.\n",
      "Found 64 images belonging to 2 classes.\n"
     ]
    }
   ],
   "source": [
    "train_batches=ImageDataGenerator().flow_from_directory(train_path,target_size=(224,224),classes=['abnormal', 'normal'], batch_size=32)\n",
    "valid_batches=ImageDataGenerator().flow_from_directory(valid_path,target_size=(224,224),classes=['abnormal', 'normal'], batch_size=32)\n",
    "test_batches=ImageDataGenerator().flow_from_directory(test_path,target_size=(224,224),classes=['abnormal', 'normal'], batch_size=32)"
   ]
  },
  {
   "cell_type": "code",
   "execution_count": 4,
   "id": "627004d9",
   "metadata": {},
   "outputs": [],
   "source": [
    "def plots(ims, figsize=(12,6), rows=1, interp=False, titles=None):\n",
    "    if type(ims[0]) is np.ndarray:\n",
    "        ims= np.array(ims).astype(np.uint8)\n",
    "        if (ims.shape[-1] != 3):\n",
    "            ims = ims.transpose((0,2,3,1))\n",
    "    f = plt.figure(figsize=figsize)\n",
    "    cols = len(ims)//rows if len(ims) % 2 == 0 else len(ims)//rows + 1\n",
    "    for i in range(len(ims)):\n",
    "        sp = f.add_subplot(rows, cols, i+1)\n",
    "        sp.axis('off')\n",
    "        if titles is not None:\n",
    "            sp.set_title(titles[i], fontsize=16)\n",
    "        plt.imshow(ims[i], interpolation=None if interp else 'none')"
   ]
  },
  {
   "cell_type": "code",
   "execution_count": 5,
   "id": "dbc206af",
   "metadata": {},
   "outputs": [],
   "source": [
    "imgs, labels = next(train_batches)"
   ]
  },
  {
   "cell_type": "code",
   "execution_count": 6,
   "id": "59d62076",
   "metadata": {},
   "outputs": [],
   "source": [
    "vgg16_model = keras.applications.vgg16.VGG16()"
   ]
  },
  {
   "cell_type": "code",
   "execution_count": 7,
   "id": "fca8c39f",
   "metadata": {},
   "outputs": [
    {
     "name": "stdout",
     "output_type": "stream",
     "text": [
      "Model: \"vgg16\"\n",
      "_________________________________________________________________\n",
      " Layer (type)                Output Shape              Param #   \n",
      "=================================================================\n",
      " input_1 (InputLayer)        [(None, 224, 224, 3)]     0         \n",
      "                                                                 \n",
      " block1_conv1 (Conv2D)       (None, 224, 224, 64)      1792      \n",
      "                                                                 \n",
      " block1_conv2 (Conv2D)       (None, 224, 224, 64)      36928     \n",
      "                                                                 \n",
      " block1_pool (MaxPooling2D)  (None, 112, 112, 64)      0         \n",
      "                                                                 \n",
      " block2_conv1 (Conv2D)       (None, 112, 112, 128)     73856     \n",
      "                                                                 \n",
      " block2_conv2 (Conv2D)       (None, 112, 112, 128)     147584    \n",
      "                                                                 \n",
      " block2_pool (MaxPooling2D)  (None, 56, 56, 128)       0         \n",
      "                                                                 \n",
      " block3_conv1 (Conv2D)       (None, 56, 56, 256)       295168    \n",
      "                                                                 \n",
      " block3_conv2 (Conv2D)       (None, 56, 56, 256)       590080    \n",
      "                                                                 \n",
      " block3_conv3 (Conv2D)       (None, 56, 56, 256)       590080    \n",
      "                                                                 \n",
      " block3_pool (MaxPooling2D)  (None, 28, 28, 256)       0         \n",
      "                                                                 \n",
      " block4_conv1 (Conv2D)       (None, 28, 28, 512)       1180160   \n",
      "                                                                 \n",
      " block4_conv2 (Conv2D)       (None, 28, 28, 512)       2359808   \n",
      "                                                                 \n",
      " block4_conv3 (Conv2D)       (None, 28, 28, 512)       2359808   \n",
      "                                                                 \n",
      " block4_pool (MaxPooling2D)  (None, 14, 14, 512)       0         \n",
      "                                                                 \n",
      " block5_conv1 (Conv2D)       (None, 14, 14, 512)       2359808   \n",
      "                                                                 \n",
      " block5_conv2 (Conv2D)       (None, 14, 14, 512)       2359808   \n",
      "                                                                 \n",
      " block5_conv3 (Conv2D)       (None, 14, 14, 512)       2359808   \n",
      "                                                                 \n",
      " block5_pool (MaxPooling2D)  (None, 7, 7, 512)         0         \n",
      "                                                                 \n",
      " flatten (Flatten)           (None, 25088)             0         \n",
      "                                                                 \n",
      " fc1 (Dense)                 (None, 4096)              102764544 \n",
      "                                                                 \n",
      " fc2 (Dense)                 (None, 4096)              16781312  \n",
      "                                                                 \n",
      " predictions (Dense)         (None, 1000)              4097000   \n",
      "                                                                 \n",
      "=================================================================\n",
      "Total params: 138,357,544\n",
      "Trainable params: 138,357,544\n",
      "Non-trainable params: 0\n",
      "_________________________________________________________________\n"
     ]
    }
   ],
   "source": [
    "vgg16_model.summary()"
   ]
  },
  {
   "cell_type": "code",
   "execution_count": 8,
   "id": "5b5b5255",
   "metadata": {},
   "outputs": [
    {
     "data": {
      "text/plain": [
       "keras.engine.functional.Functional"
      ]
     },
     "execution_count": 8,
     "metadata": {},
     "output_type": "execute_result"
    }
   ],
   "source": [
    "type(vgg16_model)"
   ]
  },
  {
   "cell_type": "code",
   "execution_count": 9,
   "id": "3031c238",
   "metadata": {},
   "outputs": [],
   "source": [
    "model = Sequential()\n",
    "for layer in vgg16_model.layers[:-1]:\n",
    "    model.add(layer)    "
   ]
  },
  {
   "cell_type": "code",
   "execution_count": 10,
   "id": "bb4925fa",
   "metadata": {},
   "outputs": [
    {
     "name": "stdout",
     "output_type": "stream",
     "text": [
      "Model: \"sequential\"\n",
      "_________________________________________________________________\n",
      " Layer (type)                Output Shape              Param #   \n",
      "=================================================================\n",
      " block1_conv1 (Conv2D)       (None, 224, 224, 64)      1792      \n",
      "                                                                 \n",
      " block1_conv2 (Conv2D)       (None, 224, 224, 64)      36928     \n",
      "                                                                 \n",
      " block1_pool (MaxPooling2D)  (None, 112, 112, 64)      0         \n",
      "                                                                 \n",
      " block2_conv1 (Conv2D)       (None, 112, 112, 128)     73856     \n",
      "                                                                 \n",
      " block2_conv2 (Conv2D)       (None, 112, 112, 128)     147584    \n",
      "                                                                 \n",
      " block2_pool (MaxPooling2D)  (None, 56, 56, 128)       0         \n",
      "                                                                 \n",
      " block3_conv1 (Conv2D)       (None, 56, 56, 256)       295168    \n",
      "                                                                 \n",
      " block3_conv2 (Conv2D)       (None, 56, 56, 256)       590080    \n",
      "                                                                 \n",
      " block3_conv3 (Conv2D)       (None, 56, 56, 256)       590080    \n",
      "                                                                 \n",
      " block3_pool (MaxPooling2D)  (None, 28, 28, 256)       0         \n",
      "                                                                 \n",
      " block4_conv1 (Conv2D)       (None, 28, 28, 512)       1180160   \n",
      "                                                                 \n",
      " block4_conv2 (Conv2D)       (None, 28, 28, 512)       2359808   \n",
      "                                                                 \n",
      " block4_conv3 (Conv2D)       (None, 28, 28, 512)       2359808   \n",
      "                                                                 \n",
      " block4_pool (MaxPooling2D)  (None, 14, 14, 512)       0         \n",
      "                                                                 \n",
      " block5_conv1 (Conv2D)       (None, 14, 14, 512)       2359808   \n",
      "                                                                 \n",
      " block5_conv2 (Conv2D)       (None, 14, 14, 512)       2359808   \n",
      "                                                                 \n",
      " block5_conv3 (Conv2D)       (None, 14, 14, 512)       2359808   \n",
      "                                                                 \n",
      " block5_pool (MaxPooling2D)  (None, 7, 7, 512)         0         \n",
      "                                                                 \n",
      " flatten (Flatten)           (None, 25088)             0         \n",
      "                                                                 \n",
      " fc1 (Dense)                 (None, 4096)              102764544 \n",
      "                                                                 \n",
      " fc2 (Dense)                 (None, 4096)              16781312  \n",
      "                                                                 \n",
      "=================================================================\n",
      "Total params: 134,260,544\n",
      "Trainable params: 134,260,544\n",
      "Non-trainable params: 0\n",
      "_________________________________________________________________\n"
     ]
    }
   ],
   "source": [
    "model.summary()"
   ]
  },
  {
   "cell_type": "code",
   "execution_count": 11,
   "id": "f89fb0eb",
   "metadata": {},
   "outputs": [],
   "source": [
    "for layer in model.layers:\n",
    "    layer.trainable = False"
   ]
  },
  {
   "cell_type": "code",
   "execution_count": 12,
   "id": "00267fbc",
   "metadata": {},
   "outputs": [],
   "source": [
    "model.add(Dense(2, activation='softmax'))"
   ]
  },
  {
   "cell_type": "code",
   "execution_count": 13,
   "id": "9363b562",
   "metadata": {},
   "outputs": [
    {
     "name": "stdout",
     "output_type": "stream",
     "text": [
      "Model: \"sequential\"\n",
      "_________________________________________________________________\n",
      " Layer (type)                Output Shape              Param #   \n",
      "=================================================================\n",
      " block1_conv1 (Conv2D)       (None, 224, 224, 64)      1792      \n",
      "                                                                 \n",
      " block1_conv2 (Conv2D)       (None, 224, 224, 64)      36928     \n",
      "                                                                 \n",
      " block1_pool (MaxPooling2D)  (None, 112, 112, 64)      0         \n",
      "                                                                 \n",
      " block2_conv1 (Conv2D)       (None, 112, 112, 128)     73856     \n",
      "                                                                 \n",
      " block2_conv2 (Conv2D)       (None, 112, 112, 128)     147584    \n",
      "                                                                 \n",
      " block2_pool (MaxPooling2D)  (None, 56, 56, 128)       0         \n",
      "                                                                 \n",
      " block3_conv1 (Conv2D)       (None, 56, 56, 256)       295168    \n",
      "                                                                 \n",
      " block3_conv2 (Conv2D)       (None, 56, 56, 256)       590080    \n",
      "                                                                 \n",
      " block3_conv3 (Conv2D)       (None, 56, 56, 256)       590080    \n",
      "                                                                 \n",
      " block3_pool (MaxPooling2D)  (None, 28, 28, 256)       0         \n",
      "                                                                 \n",
      " block4_conv1 (Conv2D)       (None, 28, 28, 512)       1180160   \n",
      "                                                                 \n",
      " block4_conv2 (Conv2D)       (None, 28, 28, 512)       2359808   \n",
      "                                                                 \n",
      " block4_conv3 (Conv2D)       (None, 28, 28, 512)       2359808   \n",
      "                                                                 \n",
      " block4_pool (MaxPooling2D)  (None, 14, 14, 512)       0         \n",
      "                                                                 \n",
      " block5_conv1 (Conv2D)       (None, 14, 14, 512)       2359808   \n",
      "                                                                 \n",
      " block5_conv2 (Conv2D)       (None, 14, 14, 512)       2359808   \n",
      "                                                                 \n",
      " block5_conv3 (Conv2D)       (None, 14, 14, 512)       2359808   \n",
      "                                                                 \n",
      " block5_pool (MaxPooling2D)  (None, 7, 7, 512)         0         \n",
      "                                                                 \n",
      " flatten (Flatten)           (None, 25088)             0         \n",
      "                                                                 \n",
      " fc1 (Dense)                 (None, 4096)              102764544 \n",
      "                                                                 \n",
      " fc2 (Dense)                 (None, 4096)              16781312  \n",
      "                                                                 \n",
      " dense (Dense)               (None, 2)                 8194      \n",
      "                                                                 \n",
      "=================================================================\n",
      "Total params: 134,268,738\n",
      "Trainable params: 8,194\n",
      "Non-trainable params: 134,260,544\n",
      "_________________________________________________________________\n"
     ]
    }
   ],
   "source": [
    "model.summary()"
   ]
  },
  {
   "cell_type": "code",
   "execution_count": 14,
   "id": "0a8c5d79",
   "metadata": {},
   "outputs": [],
   "source": [
    "model.compile(Adam(learning_rate=.01), loss='categorical_crossentropy', metrics=['accuracy'])"
   ]
  },
  {
   "cell_type": "code",
   "execution_count": 16,
   "id": "b3df884a",
   "metadata": {},
   "outputs": [
    {
     "name": "stdout",
     "output_type": "stream",
     "text": [
      "Epoch 1/30\n",
      "6/6 - 151s - loss: 8.4133 - accuracy: 0.5573 - val_loss: 7.8320 - val_accuracy: 0.5000 - 151s/epoch - 25s/step\n",
      "Epoch 2/30\n",
      "6/6 - 139s - loss: 6.7682 - accuracy: 0.5469 - val_loss: 8.8479 - val_accuracy: 0.5000 - 139s/epoch - 23s/step\n",
      "Epoch 3/30\n",
      "6/6 - 142s - loss: 3.8856 - accuracy: 0.5990 - val_loss: 0.5359 - val_accuracy: 0.8281 - 142s/epoch - 24s/step\n",
      "Epoch 4/30\n",
      "6/6 - 121s - loss: 1.7792 - accuracy: 0.7292 - val_loss: 2.6230 - val_accuracy: 0.6354 - 121s/epoch - 20s/step\n",
      "Epoch 5/30\n",
      "6/6 - 139s - loss: 1.8830 - accuracy: 0.7188 - val_loss: 0.4347 - val_accuracy: 0.8750 - 139s/epoch - 23s/step\n",
      "Epoch 6/30\n",
      "6/6 - 137s - loss: 0.6732 - accuracy: 0.8438 - val_loss: 0.6437 - val_accuracy: 0.8385 - 137s/epoch - 23s/step\n",
      "Epoch 7/30\n",
      "6/6 - 129s - loss: 0.5638 - accuracy: 0.8698 - val_loss: 0.9324 - val_accuracy: 0.7969 - 129s/epoch - 22s/step\n",
      "Epoch 8/30\n",
      "6/6 - 129s - loss: 1.0426 - accuracy: 0.8073 - val_loss: 0.4204 - val_accuracy: 0.9115 - 129s/epoch - 22s/step\n",
      "Epoch 9/30\n",
      "6/6 - 131s - loss: 0.5378 - accuracy: 0.8906 - val_loss: 0.5776 - val_accuracy: 0.8438 - 131s/epoch - 22s/step\n",
      "Epoch 10/30\n",
      "6/6 - 132s - loss: 0.4885 - accuracy: 0.8750 - val_loss: 0.2836 - val_accuracy: 0.9323 - 132s/epoch - 22s/step\n",
      "Epoch 11/30\n",
      "6/6 - 130s - loss: 0.3119 - accuracy: 0.9010 - val_loss: 0.2665 - val_accuracy: 0.9375 - 130s/epoch - 22s/step\n",
      "Epoch 12/30\n",
      "6/6 - 130s - loss: 0.2442 - accuracy: 0.9479 - val_loss: 0.2108 - val_accuracy: 0.9375 - 130s/epoch - 22s/step\n",
      "Epoch 13/30\n",
      "6/6 - 131s - loss: 0.2035 - accuracy: 0.9323 - val_loss: 0.1767 - val_accuracy: 0.9479 - 131s/epoch - 22s/step\n",
      "Epoch 14/30\n",
      "6/6 - 137s - loss: 0.1711 - accuracy: 0.9479 - val_loss: 0.1425 - val_accuracy: 0.9635 - 137s/epoch - 23s/step\n",
      "Epoch 15/30\n",
      "6/6 - 132s - loss: 0.1495 - accuracy: 0.9323 - val_loss: 0.1909 - val_accuracy: 0.9115 - 132s/epoch - 22s/step\n",
      "Epoch 16/30\n",
      "6/6 - 134s - loss: 0.1824 - accuracy: 0.9219 - val_loss: 0.1151 - val_accuracy: 0.9479 - 134s/epoch - 22s/step\n",
      "Epoch 17/30\n",
      "6/6 - 135s - loss: 0.1655 - accuracy: 0.9271 - val_loss: 0.8417 - val_accuracy: 0.8021 - 135s/epoch - 22s/step\n",
      "Epoch 18/30\n",
      "6/6 - 131s - loss: 0.4901 - accuracy: 0.8385 - val_loss: 1.7775 - val_accuracy: 0.6875 - 131s/epoch - 22s/step\n",
      "Epoch 19/30\n",
      "6/6 - 136s - loss: 1.0646 - accuracy: 0.7448 - val_loss: 1.8720 - val_accuracy: 0.6771 - 136s/epoch - 23s/step\n",
      "Epoch 20/30\n",
      "6/6 - 144s - loss: 1.3209 - accuracy: 0.7135 - val_loss: 1.6362 - val_accuracy: 0.7135 - 144s/epoch - 24s/step\n",
      "Epoch 21/30\n",
      "6/6 - 113s - loss: 0.8344 - accuracy: 0.7969 - val_loss: 0.1948 - val_accuracy: 0.9271 - 113s/epoch - 19s/step\n",
      "Epoch 22/30\n",
      "6/6 - 138s - loss: 0.5550 - accuracy: 0.8646 - val_loss: 0.5485 - val_accuracy: 0.8542 - 138s/epoch - 23s/step\n",
      "Epoch 23/30\n",
      "6/6 - 129s - loss: 0.1530 - accuracy: 0.9427 - val_loss: 0.1312 - val_accuracy: 0.9479 - 129s/epoch - 22s/step\n",
      "Epoch 24/30\n",
      "6/6 - 130s - loss: 0.1408 - accuracy: 0.9531 - val_loss: 0.3337 - val_accuracy: 0.8854 - 130s/epoch - 22s/step\n",
      "Epoch 25/30\n",
      "6/6 - 138s - loss: 0.1231 - accuracy: 0.9583 - val_loss: 0.2240 - val_accuracy: 0.9271 - 138s/epoch - 23s/step\n",
      "Epoch 26/30\n",
      "6/6 - 138s - loss: 0.1503 - accuracy: 0.9479 - val_loss: 0.0808 - val_accuracy: 0.9792 - 138s/epoch - 23s/step\n",
      "Epoch 27/30\n",
      "6/6 - 139s - loss: 0.0954 - accuracy: 0.9583 - val_loss: 0.5234 - val_accuracy: 0.8646 - 139s/epoch - 23s/step\n",
      "Epoch 28/30\n",
      "6/6 - 138s - loss: 0.1869 - accuracy: 0.9271 - val_loss: 0.1742 - val_accuracy: 0.9115 - 138s/epoch - 23s/step\n",
      "Epoch 29/30\n",
      "6/6 - 136s - loss: 0.1624 - accuracy: 0.9323 - val_loss: 0.1900 - val_accuracy: 0.9271 - 136s/epoch - 23s/step\n",
      "Epoch 30/30\n",
      "6/6 - 136s - loss: 0.2778 - accuracy: 0.9115 - val_loss: 0.2103 - val_accuracy: 0.9323 - 136s/epoch - 23s/step\n"
     ]
    },
    {
     "data": {
      "text/plain": [
       "<keras.callbacks.History at 0x2519e28dae0>"
      ]
     },
     "execution_count": 16,
     "metadata": {},
     "output_type": "execute_result"
    }
   ],
   "source": [
    "model.fit(train_batches, steps_per_epoch=6, validation_data=valid_batches, validation_steps=6, epochs=30, verbose=2)"
   ]
  },
  {
   "cell_type": "code",
   "execution_count": 15,
   "id": "ccd43823",
   "metadata": {},
   "outputs": [
    {
     "name": "stdout",
     "output_type": "stream",
     "text": [
      "Epoch 1/16\n",
      "6/6 - 140s - loss: 15.4538 - accuracy: 0.4271 - val_loss: 7.9772 - val_accuracy: 0.5000 - 140s/epoch - 23s/step\n",
      "Epoch 2/16\n",
      "6/6 - 145s - loss: 6.7775 - accuracy: 0.5208 - val_loss: 1.4834 - val_accuracy: 0.6198 - 145s/epoch - 24s/step\n",
      "Epoch 3/16\n",
      "6/6 - 139s - loss: 3.2277 - accuracy: 0.5781 - val_loss: 3.9093 - val_accuracy: 0.5469 - 139s/epoch - 23s/step\n",
      "Epoch 4/16\n",
      "6/6 - 140s - loss: 2.0901 - accuracy: 0.6719 - val_loss: 0.4727 - val_accuracy: 0.8490 - 140s/epoch - 23s/step\n",
      "Epoch 5/16\n",
      "6/6 - 134s - loss: 1.0909 - accuracy: 0.7865 - val_loss: 1.0509 - val_accuracy: 0.7448 - 134s/epoch - 22s/step\n",
      "Epoch 6/16\n",
      "6/6 - 134s - loss: 0.8296 - accuracy: 0.8177 - val_loss: 0.4977 - val_accuracy: 0.8906 - 134s/epoch - 22s/step\n",
      "Epoch 7/16\n",
      "6/6 - 130s - loss: 0.5909 - accuracy: 0.8229 - val_loss: 0.7418 - val_accuracy: 0.8281 - 130s/epoch - 22s/step\n",
      "Epoch 8/16\n",
      "6/6 - 134s - loss: 0.9890 - accuracy: 0.7812 - val_loss: 0.9677 - val_accuracy: 0.7708 - 134s/epoch - 22s/step\n",
      "Epoch 9/16\n",
      "6/6 - 130s - loss: 0.4058 - accuracy: 0.8958 - val_loss: 0.3290 - val_accuracy: 0.9271 - 130s/epoch - 22s/step\n",
      "Epoch 10/16\n",
      "6/6 - 154s - loss: 0.2946 - accuracy: 0.8906 - val_loss: 0.2610 - val_accuracy: 0.9167 - 154s/epoch - 26s/step\n",
      "Epoch 11/16\n",
      "6/6 - 147s - loss: 0.2892 - accuracy: 0.9062 - val_loss: 0.2845 - val_accuracy: 0.9427 - 147s/epoch - 24s/step\n",
      "Epoch 12/16\n",
      "6/6 - 170s - loss: 0.2427 - accuracy: 0.9427 - val_loss: 0.3844 - val_accuracy: 0.8594 - 170s/epoch - 28s/step\n",
      "Epoch 13/16\n",
      "6/6 - 171s - loss: 0.2794 - accuracy: 0.9010 - val_loss: 0.1593 - val_accuracy: 0.9427 - 171s/epoch - 29s/step\n",
      "Epoch 14/16\n",
      "6/6 - 129s - loss: 0.1672 - accuracy: 0.9323 - val_loss: 0.1361 - val_accuracy: 0.9531 - 129s/epoch - 22s/step\n",
      "Epoch 15/16\n",
      "6/6 - 130s - loss: 0.1290 - accuracy: 0.9583 - val_loss: 0.1849 - val_accuracy: 0.9115 - 130s/epoch - 22s/step\n",
      "Epoch 16/16\n",
      "6/6 - 129s - loss: 0.1460 - accuracy: 0.9375 - val_loss: 0.1687 - val_accuracy: 0.9479 - 129s/epoch - 22s/step\n"
     ]
    },
    {
     "data": {
      "text/plain": [
       "<keras.callbacks.History at 0x29b8469fb50>"
      ]
     },
     "execution_count": 15,
     "metadata": {},
     "output_type": "execute_result"
    }
   ],
   "source": [
    "model.fit(train_batches, steps_per_epoch=6, validation_data=valid_batches, validation_steps=6, epochs=16, verbose=2)"
   ]
  },
  {
   "cell_type": "code",
   "execution_count": 16,
   "id": "72edb376",
   "metadata": {},
   "outputs": [],
   "source": [
    "test_imgs, test_labels = next(test_batches)\n"
   ]
  },
  {
   "cell_type": "code",
   "execution_count": 17,
   "id": "20ded50f",
   "metadata": {},
   "outputs": [
    {
     "data": {
      "text/plain": [
       "array([1., 1., 0., 1., 1., 0., 1., 0., 0., 1., 1., 0., 0., 1., 1., 0., 1.,\n",
       "       0., 1., 1., 0., 0., 1., 0., 0., 0., 0., 1., 1., 1., 1., 1.],\n",
       "      dtype=float32)"
      ]
     },
     "execution_count": 17,
     "metadata": {},
     "output_type": "execute_result"
    }
   ],
   "source": [
    "test_labels = test_labels[:,0]\n",
    "test_labels"
   ]
  },
  {
   "cell_type": "code",
   "execution_count": 18,
   "id": "9787aef4",
   "metadata": {},
   "outputs": [
    {
     "data": {
      "text/plain": [
       "array([[9.88124907e-01, 1.18751004e-02],\n",
       "       [9.96280074e-01, 3.71995009e-03],\n",
       "       [2.42196545e-01, 7.57803380e-01],\n",
       "       [7.68177733e-02, 9.23182189e-01],\n",
       "       [7.99382865e-01, 2.00617075e-01],\n",
       "       [1.20138975e-05, 9.99987900e-01],\n",
       "       [9.99993980e-01, 5.97848702e-06],\n",
       "       [2.10137409e-03, 9.97898579e-01],\n",
       "       [6.24087825e-03, 9.93759155e-01],\n",
       "       [9.98961926e-01, 1.03796273e-03],\n",
       "       [3.74273300e-01, 6.25726759e-01],\n",
       "       [4.22099693e-04, 9.99577940e-01],\n",
       "       [2.86920951e-03, 9.97130752e-01],\n",
       "       [8.26516867e-01, 1.73483178e-01],\n",
       "       [8.62708151e-01, 1.37291744e-01],\n",
       "       [3.93850632e-06, 9.99996006e-01],\n",
       "       [9.96280074e-01, 3.71995009e-03],\n",
       "       [1.81946659e-03, 9.98180449e-01],\n",
       "       [9.64267135e-01, 3.57328020e-02],\n",
       "       [9.28720832e-01, 7.12792575e-02],\n",
       "       [4.11683650e-05, 9.99958813e-01],\n",
       "       [5.54136466e-04, 9.99445796e-01],\n",
       "       [9.99999940e-01, 1.68706504e-09],\n",
       "       [3.71612714e-06, 9.99996245e-01],\n",
       "       [1.52803585e-02, 9.84719574e-01],\n",
       "       [4.18879539e-02, 9.58112061e-01],\n",
       "       [2.97903344e-02, 9.70209539e-01],\n",
       "       [9.99996006e-01, 3.98302882e-06],\n",
       "       [8.90067577e-01, 1.09932311e-01],\n",
       "       [9.99857903e-01, 1.42252858e-04],\n",
       "       [9.99990642e-01, 9.34785203e-06],\n",
       "       [9.99999940e-01, 3.77864104e-08]], dtype=float32)"
      ]
     },
     "execution_count": 18,
     "metadata": {},
     "output_type": "execute_result"
    }
   ],
   "source": [
    "predictions = model.predict(test_batches, steps = 1, verbose = 0)\n",
    "predictions"
   ]
  },
  {
   "cell_type": "code",
   "execution_count": 19,
   "id": "aa294108",
   "metadata": {},
   "outputs": [],
   "source": [
    "def plot_confusion_matrix(cm, classes,\n",
    "                          normalize=False,\n",
    "                          title='Confusion matrix',\n",
    "                          cmap=plt.cm.Blues):\n",
    "    \"\"\"\n",
    "    This function prints and plots the confusion matrix.\n",
    "    Normalization can be applied by setting `normalize=True`.\n",
    "    \"\"\"\n",
    "    plt.imshow(cm, interpolation='nearest', cmap=cmap)\n",
    "    plt.title(title)\n",
    "    plt.colorbar()\n",
    "    tick_marks = np.arange(len(classes))\n",
    "    plt.xticks(tick_marks, classes, rotation=45)\n",
    "    plt.yticks(tick_marks, classes)\n",
    "\n",
    "    if normalize:\n",
    "        cm = cm.astype('float') / cm.sum(axis=1)[:, np.newaxis]\n",
    "        print(\"Normalized confusion matrix\")\n",
    "    else:\n",
    "        print('Confusion matrix, without normalization')\n",
    "\n",
    "    print(cm)\n",
    "\n",
    "    thresh = cm.max() / 2.\n",
    "    for i, j in itertools.product(range(cm.shape[0]), range(cm.shape[1])):\n",
    "        plt.text(j, i, cm[i, j],\n",
    "                 horizontalalignment=\"center\",\n",
    "                 color=\"white\" if cm[i, j] > thresh else \"black\")\n",
    "\n",
    "    plt.tight_layout()\n",
    "    plt.ylabel('True label')\n",
    "    plt.xlabel('Predicted label')"
   ]
  },
  {
   "cell_type": "code",
   "execution_count": 20,
   "id": "b0bdca96",
   "metadata": {},
   "outputs": [],
   "source": [
    "cm = confusion_matrix(test_labels, np.round(predictions[:,0]))"
   ]
  },
  {
   "cell_type": "code",
   "execution_count": 21,
   "id": "80b9b899",
   "metadata": {},
   "outputs": [
    {
     "name": "stdout",
     "output_type": "stream",
     "text": [
      "Confusion matrix, without normalization\n",
      "[[14  0]\n",
      " [ 2 16]]\n"
     ]
    },
    {
     "data": {
      "image/png": "[encoded data removed]",
      "text/plain": [
       "<Figure size 640x480 with 2 Axes>"
      ]
     },
     "metadata": {},
     "output_type": "display_data"
    }
   ],
   "source": [
    "cm_plot_labels = ['abnormal', 'normal']\n",
    "plot_confusion_matrix(cm, cm_plot_labels, title='Confusion Matrix')"
   ]
  },
  {
   "cell_type": "code",
   "execution_count": null,
   "id": "0d399013",
   "metadata": {},
   "outputs": [],
   "source": []
  }
 ],
 "metadata": {
  "kernelspec": {
   "display_name": "Python 3 (ipykernel)",
   "language": "python",
   "name": "python3"
  },
  "language_info": {
   "codemirror_mode": {
    "name": "ipython",
    "version": 3
   },
   "file_extension": ".py",
   "mimetype": "text/x-python",
   "name": "python",
   "nbconvert_exporter": "python",
   "pygments_lexer": "ipython3",
   "version": "3.10.9"
  }
 },
 "nbformat": 4,
 "nbformat_minor": 5
}
