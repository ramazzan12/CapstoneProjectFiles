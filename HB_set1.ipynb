{
 "cells": [
  {
   "cell_type": "code",
   "execution_count": 1,
   "id": "010af610",
   "metadata": {},
   "outputs": [],
   "source": [
    "import numpy as np\n",
    "import keras\n",
    "from keras import backend as K\n",
    "from keras.models import Sequential\n",
    "from keras.layers import Activation\n",
    "from keras.layers.core import Dense, Flatten\n",
    "from keras.optimizers import Adam\n",
    "from keras.metrics import categorical_crossentropy\n",
    "from keras.preprocessing.image import ImageDataGenerator\n",
    "from tensorflow.keras.layers import BatchNormalization\n",
    "from keras.layers.convolutional import *\n",
    "from matplotlib import pyplot as plt\n",
    "from sklearn.metrics import confusion_matrix\n",
    "import itertools\n",
    "import matplotlib.pyplot as plt\n",
    "%matplotlib inline"
   ]
  },
  {
   "cell_type": "code",
   "execution_count": 2,
   "id": "b59f60ac",
   "metadata": {},
   "outputs": [],
   "source": [
    "train_path='D:/Ramazan/ЗАГРУЗКИ/ECG_images_dataset/4FoldCV_HB/set1/training_set'\n",
    "valid_path='D:/Ramazan/ЗАГРУЗКИ/ECG_images_dataset/4FoldCV_HB/set1/validation_set'\n",
    "test_path='D:/Ramazan/ЗАГРУЗКИ/ECG_images_dataset/4FoldCV_HB/set1/testing_set'"
   ]
  },
  {
   "cell_type": "code",
   "execution_count": 3,
   "id": "9986be73",
   "metadata": {},
   "outputs": [
    {
     "name": "stdout",
     "output_type": "stream",
     "text": [
      "Found 192 images belonging to 2 classes.\n",
      "Found 192 images belonging to 2 classes.\n",
      "Found 64 images belonging to 2 classes.\n"
     ]
    }
   ],
   "source": [
    "train_batches=ImageDataGenerator().flow_from_directory(train_path,target_size=(224,224),classes=['abnormal', 'normal'], batch_size=32)\n",
    "valid_batches=ImageDataGenerator().flow_from_directory(valid_path,target_size=(224,224),classes=['abnormal', 'normal'], batch_size=32)\n",
    "test_batches=ImageDataGenerator().flow_from_directory(test_path,target_size=(224,224),classes=['abnormal', 'normal'], batch_size=32)"
   ]
  },
  {
   "cell_type": "code",
   "execution_count": 4,
   "id": "4274b60f",
   "metadata": {},
   "outputs": [],
   "source": [
    "def plots(ims, figsize=(12,6), rows=1, interp=False, titles=None):\n",
    "    if type(ims[0]) is np.ndarray:\n",
    "        ims= np.array(ims).astype(np.uint8)\n",
    "        if (ims.shape[-1] != 3):\n",
    "            ims = ims.transpose((0,2,3,1))\n",
    "    f = plt.figure(figsize=figsize)\n",
    "    cols = len(ims)//rows if len(ims) % 2 == 0 else len(ims)//rows + 1\n",
    "    for i in range(len(ims)):\n",
    "        sp = f.add_subplot(rows, cols, i+1)\n",
    "        sp.axis('off')\n",
    "        if titles is not None:\n",
    "            sp.set_title(titles[i], fontsize=16)\n",
    "        plt.imshow(ims[i], interpolation=None if interp else 'none')"
   ]
  },
  {
   "cell_type": "code",
   "execution_count": 5,
   "id": "1aa09435",
   "metadata": {},
   "outputs": [],
   "source": [
    "imgs, labels = next(train_batches)"
   ]
  },
  {
   "cell_type": "code",
   "execution_count": 6,
   "id": "e1a41151",
   "metadata": {},
   "outputs": [],
   "source": [
    "vgg16_model = keras.applications.vgg16.VGG16()"
   ]
  },
  {
   "cell_type": "code",
   "execution_count": 7,
   "id": "87a44ffe",
   "metadata": {},
   "outputs": [],
   "source": [
    "model = Sequential()\n",
    "for layer in vgg16_model.layers[:-1]:\n",
    "    model.add(layer)    "
   ]
  },
  {
   "cell_type": "code",
   "execution_count": 8,
   "id": "8946b151",
   "metadata": {},
   "outputs": [],
   "source": [
    "for layer in model.layers:\n",
    "    layer.trainable = False"
   ]
  },
  {
   "cell_type": "code",
   "execution_count": 9,
   "id": "20b6905a",
   "metadata": {},
   "outputs": [],
   "source": [
    "model.add(Dense(2, activation='softmax'))"
   ]
  },
  {
   "cell_type": "code",
   "execution_count": 10,
   "id": "0e6a13b7",
   "metadata": {},
   "outputs": [
    {
     "name": "stdout",
     "output_type": "stream",
     "text": [
      "Model: \"sequential\"\n",
      "_________________________________________________________________\n",
      " Layer (type)                Output Shape              Param #   \n",
      "=================================================================\n",
      " block1_conv1 (Conv2D)       (None, 224, 224, 64)      1792      \n",
      "                                                                 \n",
      " block1_conv2 (Conv2D)       (None, 224, 224, 64)      36928     \n",
      "                                                                 \n",
      " block1_pool (MaxPooling2D)  (None, 112, 112, 64)      0         \n",
      "                                                                 \n",
      " block2_conv1 (Conv2D)       (None, 112, 112, 128)     73856     \n",
      "                                                                 \n",
      " block2_conv2 (Conv2D)       (None, 112, 112, 128)     147584    \n",
      "                                                                 \n",
      " block2_pool (MaxPooling2D)  (None, 56, 56, 128)       0         \n",
      "                                                                 \n",
      " block3_conv1 (Conv2D)       (None, 56, 56, 256)       295168    \n",
      "                                                                 \n",
      " block3_conv2 (Conv2D)       (None, 56, 56, 256)       590080    \n",
      "                                                                 \n",
      " block3_conv3 (Conv2D)       (None, 56, 56, 256)       590080    \n",
      "                                                                 \n",
      " block3_pool (MaxPooling2D)  (None, 28, 28, 256)       0         \n",
      "                                                                 \n",
      " block4_conv1 (Conv2D)       (None, 28, 28, 512)       1180160   \n",
      "                                                                 \n",
      " block4_conv2 (Conv2D)       (None, 28, 28, 512)       2359808   \n",
      "                                                                 \n",
      " block4_conv3 (Conv2D)       (None, 28, 28, 512)       2359808   \n",
      "                                                                 \n",
      " block4_pool (MaxPooling2D)  (None, 14, 14, 512)       0         \n",
      "                                                                 \n",
      " block5_conv1 (Conv2D)       (None, 14, 14, 512)       2359808   \n",
      "                                                                 \n",
      " block5_conv2 (Conv2D)       (None, 14, 14, 512)       2359808   \n",
      "                                                                 \n",
      " block5_conv3 (Conv2D)       (None, 14, 14, 512)       2359808   \n",
      "                                                                 \n",
      " block5_pool (MaxPooling2D)  (None, 7, 7, 512)         0         \n",
      "                                                                 \n",
      " flatten (Flatten)           (None, 25088)             0         \n",
      "                                                                 \n",
      " fc1 (Dense)                 (None, 4096)              102764544 \n",
      "                                                                 \n",
      " fc2 (Dense)                 (None, 4096)              16781312  \n",
      "                                                                 \n",
      " dense (Dense)               (None, 2)                 8194      \n",
      "                                                                 \n",
      "=================================================================\n",
      "Total params: 134,268,738\n",
      "Trainable params: 8,194\n",
      "Non-trainable params: 134,260,544\n",
      "_________________________________________________________________\n"
     ]
    }
   ],
   "source": [
    "model.summary()"
   ]
  },
  {
   "cell_type": "code",
   "execution_count": 11,
   "id": "5c6af194",
   "metadata": {},
   "outputs": [],
   "source": [
    "model.compile(Adam(learning_rate=.01), loss='categorical_crossentropy', metrics=['accuracy'])"
   ]
  },
  {
   "cell_type": "code",
   "execution_count": 12,
   "id": "cc6d0c3e",
   "metadata": {},
   "outputs": [
    {
     "name": "stdout",
     "output_type": "stream",
     "text": [
      "Epoch 1/18\n",
      "6/6 - 121s - loss: 8.4194 - accuracy: 0.6042 - val_loss: 1.3786 - val_accuracy: 0.6823 - 121s/epoch - 20s/step\n",
      "Epoch 2/18\n",
      "6/6 - 121s - loss: 0.8415 - accuracy: 0.7812 - val_loss: 0.8695 - val_accuracy: 0.8021 - 121s/epoch - 20s/step\n",
      "Epoch 3/18\n",
      "6/6 - 130s - loss: 0.6891 - accuracy: 0.8333 - val_loss: 0.7360 - val_accuracy: 0.8281 - 130s/epoch - 22s/step\n",
      "Epoch 4/18\n",
      "6/6 - 124s - loss: 0.4971 - accuracy: 0.8542 - val_loss: 1.1538 - val_accuracy: 0.7917 - 124s/epoch - 21s/step\n",
      "Epoch 5/18\n",
      "6/6 - 114s - loss: 0.4200 - accuracy: 0.8958 - val_loss: 0.9940 - val_accuracy: 0.8073 - 114s/epoch - 19s/step\n",
      "Epoch 6/18\n",
      "6/6 - 112s - loss: 0.2573 - accuracy: 0.9115 - val_loss: 0.4873 - val_accuracy: 0.8750 - 112s/epoch - 19s/step\n",
      "Epoch 7/18\n",
      "6/6 - 127s - loss: 0.4527 - accuracy: 0.8906 - val_loss: 0.4356 - val_accuracy: 0.8854 - 127s/epoch - 21s/step\n",
      "Epoch 8/18\n",
      "6/6 - 122s - loss: 0.5223 - accuracy: 0.8958 - val_loss: 1.0506 - val_accuracy: 0.7917 - 122s/epoch - 20s/step\n",
      "Epoch 9/18\n",
      "6/6 - 122s - loss: 0.4683 - accuracy: 0.8698 - val_loss: 1.4648 - val_accuracy: 0.7500 - 122s/epoch - 20s/step\n",
      "Epoch 10/18\n",
      "6/6 - 121s - loss: 0.6815 - accuracy: 0.8438 - val_loss: 0.3393 - val_accuracy: 0.9010 - 121s/epoch - 20s/step\n",
      "Epoch 11/18\n",
      "6/6 - 121s - loss: 0.2243 - accuracy: 0.9479 - val_loss: 0.3391 - val_accuracy: 0.9167 - 121s/epoch - 20s/step\n",
      "Epoch 12/18\n",
      "6/6 - 118s - loss: 0.1598 - accuracy: 0.9531 - val_loss: 0.7635 - val_accuracy: 0.8542 - 118s/epoch - 20s/step\n",
      "Epoch 13/18\n",
      "6/6 - 125s - loss: 0.1226 - accuracy: 0.9583 - val_loss: 0.3831 - val_accuracy: 0.8906 - 125s/epoch - 21s/step\n",
      "Epoch 14/18\n",
      "6/6 - 128s - loss: 0.0885 - accuracy: 0.9792 - val_loss: 0.4929 - val_accuracy: 0.8698 - 128s/epoch - 21s/step\n",
      "Epoch 15/18\n",
      "6/6 - 125s - loss: 0.1739 - accuracy: 0.9323 - val_loss: 0.3580 - val_accuracy: 0.9167 - 125s/epoch - 21s/step\n",
      "Epoch 16/18\n",
      "6/6 - 134s - loss: 0.2769 - accuracy: 0.9427 - val_loss: 1.2275 - val_accuracy: 0.7969 - 134s/epoch - 22s/step\n",
      "Epoch 17/18\n",
      "6/6 - 121s - loss: 0.3905 - accuracy: 0.9115 - val_loss: 0.4159 - val_accuracy: 0.8854 - 121s/epoch - 20s/step\n",
      "Epoch 18/18\n",
      "6/6 - 118s - loss: 0.0779 - accuracy: 0.9740 - val_loss: 0.6029 - val_accuracy: 0.8698 - 118s/epoch - 20s/step\n"
     ]
    },
    {
     "data": {
      "text/plain": [
       "<keras.callbacks.History at 0x13abb6e1d80>"
      ]
     },
     "execution_count": 12,
     "metadata": {},
     "output_type": "execute_result"
    }
   ],
   "source": [
    "model.fit(train_batches, steps_per_epoch=6, validation_data=valid_batches, validation_steps=6, epochs=18, verbose=2)"
   ]
  },
  {
   "cell_type": "code",
   "execution_count": 13,
   "id": "fa7ba036",
   "metadata": {},
   "outputs": [],
   "source": [
    "test_imgs, test_labels = next(test_batches)"
   ]
  },
  {
   "cell_type": "code",
   "execution_count": 14,
   "id": "9ad8c775",
   "metadata": {},
   "outputs": [
    {
     "data": {
      "text/plain": [
       "array([0., 0., 1., 0., 0., 1., 1., 0., 1., 1., 1., 0., 1., 0., 0., 0., 1.,\n",
       "       1., 1., 0., 0., 1., 1., 0., 1., 1., 1., 1., 0., 0., 1., 0.],\n",
       "      dtype=float32)"
      ]
     },
     "execution_count": 14,
     "metadata": {},
     "output_type": "execute_result"
    }
   ],
   "source": [
    "test_labels = test_labels[:,0]\n",
    "test_labels"
   ]
  },
  {
   "cell_type": "code",
   "execution_count": 15,
   "id": "1e1c7f51",
   "metadata": {},
   "outputs": [
    {
     "data": {
      "text/plain": [
       "array([[1.2748207e-11, 9.9999994e-01],\n",
       "       [9.4305358e-07, 9.9999899e-01],\n",
       "       [6.9625983e-03, 9.9303734e-01],\n",
       "       [4.0072605e-06, 9.9999589e-01],\n",
       "       [3.6590026e-07, 9.9999958e-01],\n",
       "       [9.0507856e-03, 9.9094921e-01],\n",
       "       [9.2645890e-01, 7.3541105e-02],\n",
       "       [3.8383587e-07, 9.9999958e-01],\n",
       "       [9.0983731e-01, 9.0162672e-02],\n",
       "       [9.3811655e-01, 6.1883491e-02],\n",
       "       [9.9949795e-01, 5.0202891e-04],\n",
       "       [2.5158681e-07, 9.9999970e-01],\n",
       "       [9.9999982e-01, 1.5163464e-07],\n",
       "       [4.5558468e-10, 9.9999994e-01],\n",
       "       [4.6331212e-03, 9.9536693e-01],\n",
       "       [2.7675202e-04, 9.9972332e-01],\n",
       "       [9.7894296e-04, 9.9902099e-01],\n",
       "       [9.9723303e-01, 2.7670027e-03],\n",
       "       [9.9999994e-01, 2.7820243e-21],\n",
       "       [1.4419353e-06, 9.9999851e-01],\n",
       "       [9.5430541e-01, 4.5694634e-02],\n",
       "       [9.9989754e-01, 1.0242382e-04],\n",
       "       [9.9999994e-01, 7.5511222e-11],\n",
       "       [2.9951780e-06, 9.9999696e-01],\n",
       "       [9.9999028e-01, 9.6622107e-06],\n",
       "       [9.9846071e-01, 1.5392533e-03],\n",
       "       [9.9999660e-01, 3.3820311e-06],\n",
       "       [9.9999994e-01, 1.7321639e-08],\n",
       "       [2.5862738e-07, 9.9999970e-01],\n",
       "       [1.2223208e-07, 9.9999982e-01],\n",
       "       [9.7758716e-01, 2.2412816e-02],\n",
       "       [4.3841030e-08, 9.9999994e-01]], dtype=float32)"
      ]
     },
     "execution_count": 15,
     "metadata": {},
     "output_type": "execute_result"
    }
   ],
   "source": [
    "predictions = model.predict(test_batches, steps = 1, verbose = 0)\n",
    "predictions"
   ]
  },
  {
   "cell_type": "code",
   "execution_count": 16,
   "id": "369ca26c",
   "metadata": {},
   "outputs": [],
   "source": [
    "def plot_confusion_matrix(cm, classes,\n",
    "                          normalize=False,\n",
    "                          title='Confusion matrix',\n",
    "                          cmap=plt.cm.Blues):\n",
    "    \"\"\"\n",
    "    This function prints and plots the confusion matrix.\n",
    "    Normalization can be applied by setting `normalize=True`.\n",
    "    \"\"\"\n",
    "    plt.imshow(cm, interpolation='nearest', cmap=cmap)\n",
    "    plt.title(title)\n",
    "    plt.colorbar()\n",
    "    tick_marks = np.arange(len(classes))\n",
    "    plt.xticks(tick_marks, classes, rotation=45)\n",
    "    plt.yticks(tick_marks, classes)\n",
    "\n",
    "    if normalize:\n",
    "        cm = cm.astype('float') / cm.sum(axis=1)[:, np.newaxis]\n",
    "        print(\"Normalized confusion matrix\")\n",
    "    else:\n",
    "        print('Confusion matrix, without normalization')\n",
    "\n",
    "    print(cm)\n",
    "\n",
    "    thresh = cm.max() / 2.\n",
    "    for i, j in itertools.product(range(cm.shape[0]), range(cm.shape[1])):\n",
    "        plt.text(j, i, cm[i, j],\n",
    "                 horizontalalignment=\"center\",\n",
    "                 color=\"white\" if cm[i, j] > thresh else \"black\")\n",
    "\n",
    "    plt.tight_layout()\n",
    "    plt.ylabel('True label')\n",
    "    plt.xlabel('Predicted label')"
   ]
  },
  {
   "cell_type": "code",
   "execution_count": 17,
   "id": "a9e2554e",
   "metadata": {},
   "outputs": [],
   "source": [
    "cm = confusion_matrix(test_labels, np.round(predictions[:,0]))"
   ]
  },
  {
   "cell_type": "code",
   "execution_count": 18,
   "id": "c70a78d4",
   "metadata": {},
   "outputs": [
    {
     "name": "stdout",
     "output_type": "stream",
     "text": [
      "Confusion matrix, without normalization\n",
      "[[14  1]\n",
      " [ 3 14]]\n"
     ]
    },
    {
     "data": {
      "image/png": "[encoded data removed]",
      "text/plain": [
       "<Figure size 640x480 with 2 Axes>"
      ]
     },
     "metadata": {},
     "output_type": "display_data"
    }
   ],
   "source": [
    "cm_plot_labels = ['abnormal', 'normal']\n",
    "plot_confusion_matrix(cm, cm_plot_labels, title='Confusion Matrix')"
   ]
  },
  {
   "cell_type": "code",
   "execution_count": null,
   "id": "6a098036",
   "metadata": {},
   "outputs": [],
   "source": []
  }
 ],
 "metadata": {
  "kernelspec": {
   "display_name": "Python 3 (ipykernel)",
   "language": "python",
   "name": "python3"
  },
  "language_info": {
   "codemirror_mode": {
    "name": "ipython",
    "version": 3
   },
   "file_extension": ".py",
   "mimetype": "text/x-python",
   "name": "python",
   "nbconvert_exporter": "python",
   "pygments_lexer": "ipython3",
   "version": "3.10.9"
  }
 },
 "nbformat": 4,
 "nbformat_minor": 5
}
