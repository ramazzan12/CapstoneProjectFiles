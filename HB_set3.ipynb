{
 "cells": [
  {
   "cell_type": "code",
   "execution_count": 1,
   "id": "be174e21",
   "metadata": {},
   "outputs": [],
   "source": [
    "import numpy as np\n",
    "import keras\n",
    "from keras import backend as K\n",
    "from keras.models import Sequential\n",
    "from keras.layers import Activation\n",
    "from keras.layers.core import Dense, Flatten\n",
    "from keras.optimizers import Adam\n",
    "from keras.metrics import categorical_crossentropy\n",
    "from keras.preprocessing.image import ImageDataGenerator\n",
    "from tensorflow.keras.layers import BatchNormalization\n",
    "from keras.layers.convolutional import *\n",
    "from matplotlib import pyplot as plt\n",
    "from sklearn.metrics import confusion_matrix\n",
    "import itertools\n",
    "import matplotlib.pyplot as plt\n",
    "%matplotlib inline"
   ]
  },
  {
   "cell_type": "code",
   "execution_count": 2,
   "id": "be944acd",
   "metadata": {},
   "outputs": [],
   "source": [
    "train_path='D:/Ramazan/ЗАГРУЗКИ/ECG_images_dataset/4FoldCV_HB/set3/training_set'\n",
    "valid_path='D:/Ramazan/ЗАГРУЗКИ/ECG_images_dataset/4FoldCV_HB/set3/validation_set'\n",
    "test_path='D:/Ramazan/ЗАГРУЗКИ/ECG_images_dataset/4FoldCV_HB/set3/testing_set'"
   ]
  },
  {
   "cell_type": "code",
   "execution_count": 3,
   "id": "6f6f48de",
   "metadata": {},
   "outputs": [
    {
     "name": "stdout",
     "output_type": "stream",
     "text": [
      "Found 192 images belonging to 2 classes.\n",
      "Found 192 images belonging to 2 classes.\n",
      "Found 64 images belonging to 2 classes.\n"
     ]
    }
   ],
   "source": [
    "train_batches=ImageDataGenerator().flow_from_directory(train_path,target_size=(224,224),classes=['abnormal', 'normal'], batch_size=32)\n",
    "valid_batches=ImageDataGenerator().flow_from_directory(valid_path,target_size=(224,224),classes=['abnormal', 'normal'], batch_size=32)\n",
    "test_batches=ImageDataGenerator().flow_from_directory(test_path,target_size=(224,224),classes=['abnormal', 'normal'], batch_size=32)"
   ]
  },
  {
   "cell_type": "code",
   "execution_count": 4,
   "id": "a5267a90",
   "metadata": {},
   "outputs": [],
   "source": [
    "def plots(ims, figsize=(12,6), rows=1, interp=False, titles=None):\n",
    "    if type(ims[0]) is np.ndarray:\n",
    "        ims= np.array(ims).astype(np.uint8)\n",
    "        if (ims.shape[-1] != 3):\n",
    "            ims = ims.transpose((0,2,3,1))\n",
    "    f = plt.figure(figsize=figsize)\n",
    "    cols = len(ims)//rows if len(ims) % 2 == 0 else len(ims)//rows + 1\n",
    "    for i in range(len(ims)):\n",
    "        sp = f.add_subplot(rows, cols, i+1)\n",
    "        sp.axis('off')\n",
    "        if titles is not None:\n",
    "            sp.set_title(titles[i], fontsize=16)\n",
    "        plt.imshow(ims[i], interpolation=None if interp else 'none')"
   ]
  },
  {
   "cell_type": "code",
   "execution_count": 5,
   "id": "d18ea622",
   "metadata": {},
   "outputs": [],
   "source": [
    "imgs, labels = next(train_batches)"
   ]
  },
  {
   "cell_type": "code",
   "execution_count": 6,
   "id": "6ef1f217",
   "metadata": {},
   "outputs": [],
   "source": [
    "vgg16_model = keras.applications.vgg16.VGG16()"
   ]
  },
  {
   "cell_type": "code",
   "execution_count": 7,
   "id": "32da45cc",
   "metadata": {},
   "outputs": [],
   "source": [
    "model = Sequential()\n",
    "for layer in vgg16_model.layers[:-1]:\n",
    "    model.add(layer)    "
   ]
  },
  {
   "cell_type": "code",
   "execution_count": 8,
   "id": "ab8ac648",
   "metadata": {},
   "outputs": [],
   "source": [
    "for layer in model.layers:\n",
    "    layer.trainable = False"
   ]
  },
  {
   "cell_type": "code",
   "execution_count": 9,
   "id": "422efc93",
   "metadata": {},
   "outputs": [],
   "source": [
    "model.add(Dense(2, activation='softmax'))"
   ]
  },
  {
   "cell_type": "code",
   "execution_count": 10,
   "id": "352a05f5",
   "metadata": {},
   "outputs": [
    {
     "name": "stdout",
     "output_type": "stream",
     "text": [
      "Model: \"sequential\"\n",
      "_________________________________________________________________\n",
      " Layer (type)                Output Shape              Param #   \n",
      "=================================================================\n",
      " block1_conv1 (Conv2D)       (None, 224, 224, 64)      1792      \n",
      "                                                                 \n",
      " block1_conv2 (Conv2D)       (None, 224, 224, 64)      36928     \n",
      "                                                                 \n",
      " block1_pool (MaxPooling2D)  (None, 112, 112, 64)      0         \n",
      "                                                                 \n",
      " block2_conv1 (Conv2D)       (None, 112, 112, 128)     73856     \n",
      "                                                                 \n",
      " block2_conv2 (Conv2D)       (None, 112, 112, 128)     147584    \n",
      "                                                                 \n",
      " block2_pool (MaxPooling2D)  (None, 56, 56, 128)       0         \n",
      "                                                                 \n",
      " block3_conv1 (Conv2D)       (None, 56, 56, 256)       295168    \n",
      "                                                                 \n",
      " block3_conv2 (Conv2D)       (None, 56, 56, 256)       590080    \n",
      "                                                                 \n",
      " block3_conv3 (Conv2D)       (None, 56, 56, 256)       590080    \n",
      "                                                                 \n",
      " block3_pool (MaxPooling2D)  (None, 28, 28, 256)       0         \n",
      "                                                                 \n",
      " block4_conv1 (Conv2D)       (None, 28, 28, 512)       1180160   \n",
      "                                                                 \n",
      " block4_conv2 (Conv2D)       (None, 28, 28, 512)       2359808   \n",
      "                                                                 \n",
      " block4_conv3 (Conv2D)       (None, 28, 28, 512)       2359808   \n",
      "                                                                 \n",
      " block4_pool (MaxPooling2D)  (None, 14, 14, 512)       0         \n",
      "                                                                 \n",
      " block5_conv1 (Conv2D)       (None, 14, 14, 512)       2359808   \n",
      "                                                                 \n",
      " block5_conv2 (Conv2D)       (None, 14, 14, 512)       2359808   \n",
      "                                                                 \n",
      " block5_conv3 (Conv2D)       (None, 14, 14, 512)       2359808   \n",
      "                                                                 \n",
      " block5_pool (MaxPooling2D)  (None, 7, 7, 512)         0         \n",
      "                                                                 \n",
      " flatten (Flatten)           (None, 25088)             0         \n",
      "                                                                 \n",
      " fc1 (Dense)                 (None, 4096)              102764544 \n",
      "                                                                 \n",
      " fc2 (Dense)                 (None, 4096)              16781312  \n",
      "                                                                 \n",
      " dense (Dense)               (None, 2)                 8194      \n",
      "                                                                 \n",
      "=================================================================\n",
      "Total params: 134,268,738\n",
      "Trainable params: 8,194\n",
      "Non-trainable params: 134,260,544\n",
      "_________________________________________________________________\n"
     ]
    }
   ],
   "source": [
    "model.summary()"
   ]
  },
  {
   "cell_type": "code",
   "execution_count": 11,
   "id": "463c681c",
   "metadata": {},
   "outputs": [],
   "source": [
    "model.compile(Adam(learning_rate=.01), loss='categorical_crossentropy', metrics=['accuracy'])"
   ]
  },
  {
   "cell_type": "code",
   "execution_count": 12,
   "id": "f5b5af61",
   "metadata": {},
   "outputs": [
    {
     "name": "stdout",
     "output_type": "stream",
     "text": [
      "Epoch 1/18\n",
      "6/6 - 96s - loss: 14.2149 - accuracy: 0.4896 - val_loss: 10.5024 - val_accuracy: 0.5000 - 96s/epoch - 16s/step\n",
      "Epoch 2/18\n",
      "6/6 - 96s - loss: 6.2316 - accuracy: 0.5208 - val_loss: 1.1906 - val_accuracy: 0.7865 - 96s/epoch - 16s/step\n",
      "Epoch 3/18\n",
      "6/6 - 96s - loss: 2.3921 - accuracy: 0.7188 - val_loss: 2.1109 - val_accuracy: 0.7708 - 96s/epoch - 16s/step\n",
      "Epoch 4/18\n",
      "6/6 - 96s - loss: 2.1976 - accuracy: 0.7604 - val_loss: 3.1763 - val_accuracy: 0.6979 - 96s/epoch - 16s/step\n",
      "Epoch 5/18\n",
      "6/6 - 96s - loss: 1.5525 - accuracy: 0.8333 - val_loss: 2.1263 - val_accuracy: 0.7448 - 96s/epoch - 16s/step\n",
      "Epoch 6/18\n",
      "6/6 - 95s - loss: 1.5129 - accuracy: 0.8333 - val_loss: 1.5876 - val_accuracy: 0.7969 - 95s/epoch - 16s/step\n",
      "Epoch 7/18\n",
      "6/6 - 96s - loss: 1.0791 - accuracy: 0.8385 - val_loss: 0.7514 - val_accuracy: 0.8958 - 96s/epoch - 16s/step\n",
      "Epoch 8/18\n",
      "6/6 - 96s - loss: 0.7240 - accuracy: 0.8906 - val_loss: 0.5910 - val_accuracy: 0.8802 - 96s/epoch - 16s/step\n",
      "Epoch 9/18\n",
      "6/6 - 97s - loss: 0.5216 - accuracy: 0.8906 - val_loss: 0.4449 - val_accuracy: 0.8750 - 97s/epoch - 16s/step\n",
      "Epoch 10/18\n",
      "6/6 - 96s - loss: 0.5554 - accuracy: 0.9062 - val_loss: 0.9035 - val_accuracy: 0.8438 - 96s/epoch - 16s/step\n",
      "Epoch 11/18\n",
      "6/6 - 96s - loss: 0.5464 - accuracy: 0.8854 - val_loss: 0.8910 - val_accuracy: 0.8177 - 96s/epoch - 16s/step\n",
      "Epoch 12/18\n",
      "6/6 - 96s - loss: 0.5522 - accuracy: 0.8698 - val_loss: 0.6307 - val_accuracy: 0.8750 - 96s/epoch - 16s/step\n",
      "Epoch 13/18\n",
      "6/6 - 96s - loss: 0.5137 - accuracy: 0.8958 - val_loss: 0.2907 - val_accuracy: 0.9167 - 96s/epoch - 16s/step\n",
      "Epoch 14/18\n",
      "6/6 - 97s - loss: 0.4993 - accuracy: 0.9062 - val_loss: 0.7679 - val_accuracy: 0.8229 - 97s/epoch - 16s/step\n",
      "Epoch 15/18\n",
      "6/6 - 96s - loss: 0.4244 - accuracy: 0.8906 - val_loss: 0.3475 - val_accuracy: 0.9062 - 96s/epoch - 16s/step\n",
      "Epoch 16/18\n",
      "6/6 - 96s - loss: 0.1932 - accuracy: 0.9479 - val_loss: 0.2587 - val_accuracy: 0.9115 - 96s/epoch - 16s/step\n",
      "Epoch 17/18\n",
      "6/6 - 96s - loss: 0.1662 - accuracy: 0.9479 - val_loss: 0.2898 - val_accuracy: 0.9219 - 96s/epoch - 16s/step\n",
      "Epoch 18/18\n",
      "6/6 - 99s - loss: 0.1150 - accuracy: 0.9583 - val_loss: 0.3119 - val_accuracy: 0.8958 - 99s/epoch - 16s/step\n"
     ]
    },
    {
     "data": {
      "text/plain": [
       "<keras.callbacks.History at 0x2bb749002b0>"
      ]
     },
     "execution_count": 12,
     "metadata": {},
     "output_type": "execute_result"
    }
   ],
   "source": [
    "model.fit(train_batches, steps_per_epoch=6, validation_data=valid_batches, validation_steps=6, epochs=18, verbose=2)"
   ]
  },
  {
   "cell_type": "code",
   "execution_count": 13,
   "id": "90233df5",
   "metadata": {},
   "outputs": [],
   "source": [
    "test_imgs, test_labels = next(test_batches)"
   ]
  },
  {
   "cell_type": "code",
   "execution_count": 14,
   "id": "b80a2c58",
   "metadata": {},
   "outputs": [
    {
     "data": {
      "text/plain": [
       "array([1., 1., 1., 1., 0., 0., 1., 0., 1., 0., 1., 1., 0., 1., 0., 1., 0.,\n",
       "       1., 1., 0., 1., 1., 0., 1., 0., 1., 0., 1., 0., 0., 1., 0.],\n",
       "      dtype=float32)"
      ]
     },
     "execution_count": 14,
     "metadata": {},
     "output_type": "execute_result"
    }
   ],
   "source": [
    "test_labels = test_labels[:,0]\n",
    "test_labels"
   ]
  },
  {
   "cell_type": "code",
   "execution_count": 15,
   "id": "7a52d7fd",
   "metadata": {},
   "outputs": [
    {
     "data": {
      "text/plain": [
       "array([[9.9977160e-01, 2.2840082e-04],\n",
       "       [9.9999994e-01, 6.2941724e-19],\n",
       "       [9.9998671e-01, 1.3256144e-05],\n",
       "       [9.9999458e-01, 5.3448898e-06],\n",
       "       [2.4424644e-06, 9.9999756e-01],\n",
       "       [2.5570003e-08, 9.9999994e-01],\n",
       "       [9.9999994e-01, 4.9870237e-09],\n",
       "       [1.8716623e-08, 9.9999994e-01],\n",
       "       [8.4782630e-01, 1.5217371e-01],\n",
       "       [3.4540906e-05, 9.9996537e-01],\n",
       "       [9.9999994e-01, 1.3160455e-15],\n",
       "       [9.9999994e-01, 4.3943029e-14],\n",
       "       [2.8338036e-05, 9.9997157e-01],\n",
       "       [9.9999613e-01, 3.8342719e-06],\n",
       "       [5.0986349e-05, 9.9994892e-01],\n",
       "       [9.9999994e-01, 2.5509987e-08],\n",
       "       [1.7190900e-05, 9.9998277e-01],\n",
       "       [9.9999994e-01, 1.7390814e-13],\n",
       "       [9.9998170e-01, 1.8204697e-05],\n",
       "       [1.3466258e-06, 9.9999863e-01],\n",
       "       [9.6736002e-01, 3.2639902e-02],\n",
       "       [9.9999994e-01, 2.4572053e-08],\n",
       "       [2.6529963e-04, 9.9973476e-01],\n",
       "       [7.6906627e-01, 2.3093362e-01],\n",
       "       [9.5511961e-05, 9.9990445e-01],\n",
       "       [9.9999994e-01, 1.2246677e-10],\n",
       "       [4.3254031e-09, 9.9999994e-01],\n",
       "       [9.9999994e-01, 1.0831683e-09],\n",
       "       [3.1576933e-06, 9.9999684e-01],\n",
       "       [2.4872771e-03, 9.9751264e-01],\n",
       "       [9.9999958e-01, 3.4565616e-07],\n",
       "       [1.0848933e-06, 9.9999887e-01]], dtype=float32)"
      ]
     },
     "execution_count": 15,
     "metadata": {},
     "output_type": "execute_result"
    }
   ],
   "source": [
    "predictions = model.predict(test_batches, steps = 1, verbose = 0)\n",
    "predictions"
   ]
  },
  {
   "cell_type": "code",
   "execution_count": 16,
   "id": "b8ef6465",
   "metadata": {},
   "outputs": [],
   "source": [
    "def plot_confusion_matrix(cm, classes,\n",
    "                          normalize=False,\n",
    "                          title='Confusion matrix',\n",
    "                          cmap=plt.cm.Blues):\n",
    "    \"\"\"\n",
    "    This function prints and plots the confusion matrix.\n",
    "    Normalization can be applied by setting `normalize=True`.\n",
    "    \"\"\"\n",
    "    plt.imshow(cm, interpolation='nearest', cmap=cmap)\n",
    "    plt.title(title)\n",
    "    plt.colorbar()\n",
    "    tick_marks = np.arange(len(classes))\n",
    "    plt.xticks(tick_marks, classes, rotation=45)\n",
    "    plt.yticks(tick_marks, classes)\n",
    "\n",
    "    if normalize:\n",
    "        cm = cm.astype('float') / cm.sum(axis=1)[:, np.newaxis]\n",
    "        print(\"Normalized confusion matrix\")\n",
    "    else:\n",
    "        print('Confusion matrix, without normalization')\n",
    "\n",
    "    print(cm)\n",
    "\n",
    "    thresh = cm.max() / 2.\n",
    "    for i, j in itertools.product(range(cm.shape[0]), range(cm.shape[1])):\n",
    "        plt.text(j, i, cm[i, j],\n",
    "                 horizontalalignment=\"center\",\n",
    "                 color=\"white\" if cm[i, j] > thresh else \"black\")\n",
    "\n",
    "    plt.tight_layout()\n",
    "    plt.ylabel('True label')\n",
    "    plt.xlabel('Predicted label')"
   ]
  },
  {
   "cell_type": "code",
   "execution_count": 17,
   "id": "685b1818",
   "metadata": {},
   "outputs": [],
   "source": [
    "cm = confusion_matrix(test_labels, np.round(predictions[:,0]))"
   ]
  },
  {
   "cell_type": "code",
   "execution_count": 18,
   "id": "ed0aa1b8",
   "metadata": {},
   "outputs": [
    {
     "name": "stdout",
     "output_type": "stream",
     "text": [
      "Confusion matrix, without normalization\n",
      "[[14  0]\n",
      " [ 0 18]]\n"
     ]
    },
    {
     "data": {
      "image/png": "[encoded data removed]",
      "text/plain": [
       "<Figure size 640x480 with 2 Axes>"
      ]
     },
     "metadata": {},
     "output_type": "display_data"
    }
   ],
   "source": [
    "cm_plot_labels = ['abnormal', 'normal']\n",
    "plot_confusion_matrix(cm, cm_plot_labels, title='Confusion Matrix')"
   ]
  },
  {
   "cell_type": "code",
   "execution_count": null,
   "id": "6d924524",
   "metadata": {},
   "outputs": [],
   "source": []
  }
 ],
 "metadata": {
  "kernelspec": {
   "display_name": "Python 3 (ipykernel)",
   "language": "python",
   "name": "python3"
  },
  "language_info": {
   "codemirror_mode": {
    "name": "ipython",
    "version": 3
   },
   "file_extension": ".py",
   "mimetype": "text/x-python",
   "name": "python",
   "nbconvert_exporter": "python",
   "pygments_lexer": "ipython3",
   "version": "3.10.9"
  }
 },
 "nbformat": 4,
 "nbformat_minor": 5
}
