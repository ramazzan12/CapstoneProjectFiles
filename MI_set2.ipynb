{
 "cells": [
  {
   "cell_type": "code",
   "execution_count": 1,
   "id": "19bea60b",
   "metadata": {},
   "outputs": [],
   "source": [
    "import numpy as np\n",
    "import keras\n",
    "from keras import backend as K\n",
    "from keras.models import Sequential\n",
    "from keras.layers import Activation\n",
    "from keras.layers.core import Dense, Flatten\n",
    "from keras.optimizers import Adam\n",
    "from keras.metrics import categorical_crossentropy\n",
    "from keras.preprocessing.image import ImageDataGenerator\n",
    "from tensorflow.keras.layers import BatchNormalization\n",
    "from keras.layers.convolutional import *\n",
    "from matplotlib import pyplot as plt\n",
    "from sklearn.metrics import confusion_matrix\n",
    "import itertools\n",
    "import matplotlib.pyplot as plt\n",
    "%matplotlib inline"
   ]
  },
  {
   "cell_type": "code",
   "execution_count": 2,
   "id": "195ccd6b",
   "metadata": {},
   "outputs": [],
   "source": [
    "train_path='D:/Ramazan/ЗАГРУЗКИ/ECG_images_dataset/4FoldCV/set2/training_set'\n",
    "valid_path='D:/Ramazan/ЗАГРУЗКИ/ECG_images_dataset/4FoldCV/set2/validation_set'\n",
    "test_path='D:/Ramazan/ЗАГРУЗКИ/ECG_images_dataset/4FoldCV/set2/testing_set'"
   ]
  },
  {
   "cell_type": "code",
   "execution_count": 3,
   "id": "a0988e77",
   "metadata": {},
   "outputs": [
    {
     "name": "stdout",
     "output_type": "stream",
     "text": [
      "Found 192 images belonging to 2 classes.\n",
      "Found 192 images belonging to 2 classes.\n",
      "Found 64 images belonging to 2 classes.\n"
     ]
    }
   ],
   "source": [
    "train_batches=ImageDataGenerator().flow_from_directory(train_path,target_size=(224,224),classes=['abnormal', 'normal'], batch_size=32)\n",
    "valid_batches=ImageDataGenerator().flow_from_directory(valid_path,target_size=(224,224),classes=['abnormal', 'normal'], batch_size=32)\n",
    "test_batches=ImageDataGenerator().flow_from_directory(test_path,target_size=(224,224),classes=['abnormal', 'normal'], batch_size=32)"
   ]
  },
  {
   "cell_type": "code",
   "execution_count": 4,
   "id": "593f6ebe",
   "metadata": {},
   "outputs": [],
   "source": [
    "def plots(ims, figsize=(12,6), rows=1, interp=False, titles=None):\n",
    "    if type(ims[0]) is np.ndarray:\n",
    "        ims= np.array(ims).astype(np.uint8)\n",
    "        if (ims.shape[-1] != 3):\n",
    "            ims = ims.transpose((0,2,3,1))\n",
    "    f = plt.figure(figsize=figsize)\n",
    "    cols = len(ims)//rows if len(ims) % 2 == 0 else len(ims)//rows + 1\n",
    "    for i in range(len(ims)):\n",
    "        sp = f.add_subplot(rows, cols, i+1)\n",
    "        sp.axis('off')\n",
    "        if titles is not None:\n",
    "            sp.set_title(titles[i], fontsize=16)\n",
    "        plt.imshow(ims[i], interpolation=None if interp else 'none')"
   ]
  },
  {
   "cell_type": "code",
   "execution_count": 5,
   "id": "17196cde",
   "metadata": {},
   "outputs": [],
   "source": [
    "imgs, labels = next(train_batches)"
   ]
  },
  {
   "cell_type": "code",
   "execution_count": 6,
   "id": "c1e56ff7",
   "metadata": {},
   "outputs": [],
   "source": [
    "vgg16_model = keras.applications.vgg16.VGG16()"
   ]
  },
  {
   "cell_type": "code",
   "execution_count": 7,
   "id": "dad95eac",
   "metadata": {},
   "outputs": [
    {
     "name": "stdout",
     "output_type": "stream",
     "text": [
      "Model: \"vgg16\"\n",
      "_________________________________________________________________\n",
      " Layer (type)                Output Shape              Param #   \n",
      "=================================================================\n",
      " input_1 (InputLayer)        [(None, 224, 224, 3)]     0         \n",
      "                                                                 \n",
      " block1_conv1 (Conv2D)       (None, 224, 224, 64)      1792      \n",
      "                                                                 \n",
      " block1_conv2 (Conv2D)       (None, 224, 224, 64)      36928     \n",
      "                                                                 \n",
      " block1_pool (MaxPooling2D)  (None, 112, 112, 64)      0         \n",
      "                                                                 \n",
      " block2_conv1 (Conv2D)       (None, 112, 112, 128)     73856     \n",
      "                                                                 \n",
      " block2_conv2 (Conv2D)       (None, 112, 112, 128)     147584    \n",
      "                                                                 \n",
      " block2_pool (MaxPooling2D)  (None, 56, 56, 128)       0         \n",
      "                                                                 \n",
      " block3_conv1 (Conv2D)       (None, 56, 56, 256)       295168    \n",
      "                                                                 \n",
      " block3_conv2 (Conv2D)       (None, 56, 56, 256)       590080    \n",
      "                                                                 \n",
      " block3_conv3 (Conv2D)       (None, 56, 56, 256)       590080    \n",
      "                                                                 \n",
      " block3_pool (MaxPooling2D)  (None, 28, 28, 256)       0         \n",
      "                                                                 \n",
      " block4_conv1 (Conv2D)       (None, 28, 28, 512)       1180160   \n",
      "                                                                 \n",
      " block4_conv2 (Conv2D)       (None, 28, 28, 512)       2359808   \n",
      "                                                                 \n",
      " block4_conv3 (Conv2D)       (None, 28, 28, 512)       2359808   \n",
      "                                                                 \n",
      " block4_pool (MaxPooling2D)  (None, 14, 14, 512)       0         \n",
      "                                                                 \n",
      " block5_conv1 (Conv2D)       (None, 14, 14, 512)       2359808   \n",
      "                                                                 \n",
      " block5_conv2 (Conv2D)       (None, 14, 14, 512)       2359808   \n",
      "                                                                 \n",
      " block5_conv3 (Conv2D)       (None, 14, 14, 512)       2359808   \n",
      "                                                                 \n",
      " block5_pool (MaxPooling2D)  (None, 7, 7, 512)         0         \n",
      "                                                                 \n",
      " flatten (Flatten)           (None, 25088)             0         \n",
      "                                                                 \n",
      " fc1 (Dense)                 (None, 4096)              102764544 \n",
      "                                                                 \n",
      " fc2 (Dense)                 (None, 4096)              16781312  \n",
      "                                                                 \n",
      " predictions (Dense)         (None, 1000)              4097000   \n",
      "                                                                 \n",
      "=================================================================\n",
      "Total params: 138,357,544\n",
      "Trainable params: 138,357,544\n",
      "Non-trainable params: 0\n",
      "_________________________________________________________________\n"
     ]
    }
   ],
   "source": [
    "vgg16_model.summary()"
   ]
  },
  {
   "cell_type": "code",
   "execution_count": 8,
   "id": "d4d1a30c",
   "metadata": {},
   "outputs": [],
   "source": [
    "model = Sequential()\n",
    "for layer in vgg16_model.layers[:-1]:\n",
    "    model.add(layer)    "
   ]
  },
  {
   "cell_type": "code",
   "execution_count": 9,
   "id": "a80a0fa5",
   "metadata": {},
   "outputs": [],
   "source": [
    "for layer in model.layers:\n",
    "    layer.trainable = False"
   ]
  },
  {
   "cell_type": "code",
   "execution_count": 10,
   "id": "38bda914",
   "metadata": {},
   "outputs": [],
   "source": [
    "model.add(Dense(2, activation='softmax'))"
   ]
  },
  {
   "cell_type": "code",
   "execution_count": 11,
   "id": "316aea49",
   "metadata": {},
   "outputs": [
    {
     "name": "stdout",
     "output_type": "stream",
     "text": [
      "Model: \"sequential\"\n",
      "_________________________________________________________________\n",
      " Layer (type)                Output Shape              Param #   \n",
      "=================================================================\n",
      " block1_conv1 (Conv2D)       (None, 224, 224, 64)      1792      \n",
      "                                                                 \n",
      " block1_conv2 (Conv2D)       (None, 224, 224, 64)      36928     \n",
      "                                                                 \n",
      " block1_pool (MaxPooling2D)  (None, 112, 112, 64)      0         \n",
      "                                                                 \n",
      " block2_conv1 (Conv2D)       (None, 112, 112, 128)     73856     \n",
      "                                                                 \n",
      " block2_conv2 (Conv2D)       (None, 112, 112, 128)     147584    \n",
      "                                                                 \n",
      " block2_pool (MaxPooling2D)  (None, 56, 56, 128)       0         \n",
      "                                                                 \n",
      " block3_conv1 (Conv2D)       (None, 56, 56, 256)       295168    \n",
      "                                                                 \n",
      " block3_conv2 (Conv2D)       (None, 56, 56, 256)       590080    \n",
      "                                                                 \n",
      " block3_conv3 (Conv2D)       (None, 56, 56, 256)       590080    \n",
      "                                                                 \n",
      " block3_pool (MaxPooling2D)  (None, 28, 28, 256)       0         \n",
      "                                                                 \n",
      " block4_conv1 (Conv2D)       (None, 28, 28, 512)       1180160   \n",
      "                                                                 \n",
      " block4_conv2 (Conv2D)       (None, 28, 28, 512)       2359808   \n",
      "                                                                 \n",
      " block4_conv3 (Conv2D)       (None, 28, 28, 512)       2359808   \n",
      "                                                                 \n",
      " block4_pool (MaxPooling2D)  (None, 14, 14, 512)       0         \n",
      "                                                                 \n",
      " block5_conv1 (Conv2D)       (None, 14, 14, 512)       2359808   \n",
      "                                                                 \n",
      " block5_conv2 (Conv2D)       (None, 14, 14, 512)       2359808   \n",
      "                                                                 \n",
      " block5_conv3 (Conv2D)       (None, 14, 14, 512)       2359808   \n",
      "                                                                 \n",
      " block5_pool (MaxPooling2D)  (None, 7, 7, 512)         0         \n",
      "                                                                 \n",
      " flatten (Flatten)           (None, 25088)             0         \n",
      "                                                                 \n",
      " fc1 (Dense)                 (None, 4096)              102764544 \n",
      "                                                                 \n",
      " fc2 (Dense)                 (None, 4096)              16781312  \n",
      "                                                                 \n",
      " dense (Dense)               (None, 2)                 8194      \n",
      "                                                                 \n",
      "=================================================================\n",
      "Total params: 134,268,738\n",
      "Trainable params: 8,194\n",
      "Non-trainable params: 134,260,544\n",
      "_________________________________________________________________\n"
     ]
    }
   ],
   "source": [
    "model.summary()"
   ]
  },
  {
   "cell_type": "code",
   "execution_count": 12,
   "id": "7dffc1cb",
   "metadata": {},
   "outputs": [],
   "source": [
    "model.compile(Adam(learning_rate=.01), loss='categorical_crossentropy', metrics=['accuracy'])"
   ]
  },
  {
   "cell_type": "code",
   "execution_count": 13,
   "id": "4dd7ac7a",
   "metadata": {},
   "outputs": [
    {
     "name": "stdout",
     "output_type": "stream",
     "text": [
      "Epoch 1/16\n",
      "6/6 - 106s - loss: 12.7885 - accuracy: 0.5104 - val_loss: 9.3276 - val_accuracy: 0.5000 - 106s/epoch - 18s/step\n",
      "Epoch 2/16\n",
      "6/6 - 98s - loss: 5.1538 - accuracy: 0.5469 - val_loss: 3.3918 - val_accuracy: 0.5573 - 98s/epoch - 16s/step\n",
      "Epoch 3/16\n",
      "6/6 - 102s - loss: 3.5623 - accuracy: 0.6042 - val_loss: 5.6448 - val_accuracy: 0.5312 - 102s/epoch - 17s/step\n",
      "Epoch 4/16\n",
      "6/6 - 99s - loss: 3.0565 - accuracy: 0.6406 - val_loss: 0.8934 - val_accuracy: 0.7865 - 99s/epoch - 16s/step\n",
      "Epoch 5/16\n",
      "6/6 - 97s - loss: 1.1179 - accuracy: 0.7969 - val_loss: 1.2890 - val_accuracy: 0.7344 - 97s/epoch - 16s/step\n",
      "Epoch 6/16\n",
      "6/6 - 100s - loss: 0.9920 - accuracy: 0.8021 - val_loss: 0.5883 - val_accuracy: 0.8958 - 100s/epoch - 17s/step\n",
      "Epoch 7/16\n",
      "6/6 - 102s - loss: 0.6802 - accuracy: 0.8646 - val_loss: 0.6399 - val_accuracy: 0.8333 - 102s/epoch - 17s/step\n",
      "Epoch 8/16\n",
      "6/6 - 98s - loss: 0.5238 - accuracy: 0.8906 - val_loss: 0.2967 - val_accuracy: 0.9219 - 98s/epoch - 16s/step\n",
      "Epoch 9/16\n",
      "6/6 - 97s - loss: 0.3539 - accuracy: 0.9375 - val_loss: 0.2500 - val_accuracy: 0.9219 - 97s/epoch - 16s/step\n",
      "Epoch 10/16\n",
      "6/6 - 97s - loss: 0.2943 - accuracy: 0.9323 - val_loss: 0.2396 - val_accuracy: 0.9323 - 97s/epoch - 16s/step\n",
      "Epoch 11/16\n",
      "6/6 - 97s - loss: 0.3072 - accuracy: 0.9323 - val_loss: 0.2058 - val_accuracy: 0.9375 - 97s/epoch - 16s/step\n",
      "Epoch 12/16\n",
      "6/6 - 97s - loss: 0.3021 - accuracy: 0.9062 - val_loss: 0.2252 - val_accuracy: 0.9271 - 97s/epoch - 16s/step\n",
      "Epoch 13/16\n",
      "6/6 - 98s - loss: 0.2292 - accuracy: 0.9115 - val_loss: 0.1679 - val_accuracy: 0.9427 - 98s/epoch - 16s/step\n",
      "Epoch 14/16\n",
      "6/6 - 97s - loss: 0.1579 - accuracy: 0.9427 - val_loss: 0.1374 - val_accuracy: 0.9635 - 97s/epoch - 16s/step\n",
      "Epoch 15/16\n",
      "6/6 - 97s - loss: 0.1967 - accuracy: 0.9271 - val_loss: 0.2061 - val_accuracy: 0.9167 - 97s/epoch - 16s/step\n",
      "Epoch 16/16\n",
      "6/6 - 98s - loss: 0.2212 - accuracy: 0.9062 - val_loss: 0.1485 - val_accuracy: 0.9375 - 98s/epoch - 16s/step\n"
     ]
    },
    {
     "data": {
      "text/plain": [
       "<keras.callbacks.History at 0x173efeef280>"
      ]
     },
     "execution_count": 13,
     "metadata": {},
     "output_type": "execute_result"
    }
   ],
   "source": [
    "model.fit(train_batches, steps_per_epoch=6, validation_data=valid_batches, validation_steps=6, epochs=16, verbose=2)"
   ]
  },
  {
   "cell_type": "code",
   "execution_count": 14,
   "id": "5afde2cc",
   "metadata": {},
   "outputs": [],
   "source": [
    "test_imgs, test_labels = next(test_batches)"
   ]
  },
  {
   "cell_type": "code",
   "execution_count": 15,
   "id": "ada57721",
   "metadata": {},
   "outputs": [
    {
     "data": {
      "text/plain": [
       "array([0., 0., 0., 1., 0., 0., 0., 0., 1., 0., 0., 0., 0., 0., 0., 1., 0.,\n",
       "       1., 0., 1., 1., 0., 0., 0., 0., 1., 1., 1., 0., 0., 0., 1.],\n",
       "      dtype=float32)"
      ]
     },
     "execution_count": 15,
     "metadata": {},
     "output_type": "execute_result"
    }
   ],
   "source": [
    "test_labels = test_labels[:,0]\n",
    "test_labels"
   ]
  },
  {
   "cell_type": "code",
   "execution_count": 16,
   "id": "c1cf8f74",
   "metadata": {},
   "outputs": [
    {
     "data": {
      "text/plain": [
       "array([[2.9645758e-05, 9.9997026e-01],\n",
       "       [7.9493616e-03, 9.9205065e-01],\n",
       "       [3.4437941e-03, 9.9655622e-01],\n",
       "       [9.9903649e-01, 9.6352992e-04],\n",
       "       [2.3008492e-03, 9.9769926e-01],\n",
       "       [4.4383983e-06, 9.9999553e-01],\n",
       "       [8.3046971e-06, 9.9999160e-01],\n",
       "       [1.6792599e-02, 9.8320746e-01],\n",
       "       [6.1385697e-01, 3.8614300e-01],\n",
       "       [1.5576299e-04, 9.9984431e-01],\n",
       "       [9.8231494e-01, 1.7684940e-02],\n",
       "       [9.5816799e-02, 9.0418327e-01],\n",
       "       [5.9668384e-02, 9.4033158e-01],\n",
       "       [1.2051045e-01, 8.7948954e-01],\n",
       "       [1.3482317e-07, 9.9999982e-01],\n",
       "       [9.9999994e-01, 3.1849495e-10],\n",
       "       [2.4471865e-03, 9.9755269e-01],\n",
       "       [9.8923504e-01, 1.0764991e-02],\n",
       "       [2.3011169e-04, 9.9976993e-01],\n",
       "       [9.9979711e-01, 2.0287049e-04],\n",
       "       [9.9998432e-01, 1.5644682e-05],\n",
       "       [3.5274368e-06, 9.9999636e-01],\n",
       "       [3.8651228e-02, 9.6134877e-01],\n",
       "       [1.1992056e-08, 9.9999994e-01],\n",
       "       [1.1991689e-06, 9.9999875e-01],\n",
       "       [9.9997908e-01, 2.0843348e-05],\n",
       "       [9.6297836e-01, 3.7021618e-02],\n",
       "       [9.9999648e-01, 3.5088697e-06],\n",
       "       [9.4950919e-05, 9.9990493e-01],\n",
       "       [2.3534515e-06, 9.9999756e-01],\n",
       "       [8.2199536e-02, 9.1780043e-01],\n",
       "       [9.8188460e-01, 1.8115371e-02]], dtype=float32)"
      ]
     },
     "execution_count": 16,
     "metadata": {},
     "output_type": "execute_result"
    }
   ],
   "source": [
    "predictions = model.predict(test_batches, steps = 1, verbose = 0)\n",
    "predictions"
   ]
  },
  {
   "cell_type": "code",
   "execution_count": 17,
   "id": "28d3316e",
   "metadata": {},
   "outputs": [],
   "source": [
    "def plot_confusion_matrix(cm, classes,\n",
    "                          normalize=False,\n",
    "                          title='Confusion matrix',\n",
    "                          cmap=plt.cm.Blues):\n",
    "    \"\"\"\n",
    "    This function prints and plots the confusion matrix.\n",
    "    Normalization can be applied by setting `normalize=True`.\n",
    "    \"\"\"\n",
    "    plt.imshow(cm, interpolation='nearest', cmap=cmap)\n",
    "    plt.title(title)\n",
    "    plt.colorbar()\n",
    "    tick_marks = np.arange(len(classes))\n",
    "    plt.xticks(tick_marks, classes, rotation=45)\n",
    "    plt.yticks(tick_marks, classes)\n",
    "\n",
    "    if normalize:\n",
    "        cm = cm.astype('float') / cm.sum(axis=1)[:, np.newaxis]\n",
    "        print(\"Normalized confusion matrix\")\n",
    "    else:\n",
    "        print('Confusion matrix, without normalization')\n",
    "\n",
    "    print(cm)\n",
    "\n",
    "    thresh = cm.max() / 2.\n",
    "    for i, j in itertools.product(range(cm.shape[0]), range(cm.shape[1])):\n",
    "        plt.text(j, i, cm[i, j],\n",
    "                 horizontalalignment=\"center\",\n",
    "                 color=\"white\" if cm[i, j] > thresh else \"black\")\n",
    "\n",
    "    plt.tight_layout()\n",
    "    plt.ylabel('True label')\n",
    "    plt.xlabel('Predicted label')"
   ]
  },
  {
   "cell_type": "code",
   "execution_count": 18,
   "id": "f9930217",
   "metadata": {},
   "outputs": [],
   "source": [
    "cm = confusion_matrix(test_labels, np.round(predictions[:,0]))"
   ]
  },
  {
   "cell_type": "code",
   "execution_count": 19,
   "id": "606ef2f4",
   "metadata": {},
   "outputs": [
    {
     "name": "stdout",
     "output_type": "stream",
     "text": [
      "Confusion matrix, without normalization\n",
      "[[21  1]\n",
      " [ 0 10]]\n"
     ]
    },
    {
     "data": {
      "image/png": "[encoded data removed]",
      "text/plain": [
       "<Figure size 640x480 with 2 Axes>"
      ]
     },
     "metadata": {},
     "output_type": "display_data"
    }
   ],
   "source": [
    "cm_plot_labels = ['abnormal', 'normal']\n",
    "plot_confusion_matrix(cm, cm_plot_labels, title='Confusion Matrix')"
   ]
  },
  {
   "cell_type": "code",
   "execution_count": null,
   "id": "3ed1ebaf",
   "metadata": {},
   "outputs": [],
   "source": []
  }
 ],
 "metadata": {
  "kernelspec": {
   "display_name": "Python 3 (ipykernel)",
   "language": "python",
   "name": "python3"
  },
  "language_info": {
   "codemirror_mode": {
    "name": "ipython",
    "version": 3
   },
   "file_extension": ".py",
   "mimetype": "text/x-python",
   "name": "python",
   "nbconvert_exporter": "python",
   "pygments_lexer": "ipython3",
   "version": "3.10.9"
  }
 },
 "nbformat": 4,
 "nbformat_minor": 5
}
