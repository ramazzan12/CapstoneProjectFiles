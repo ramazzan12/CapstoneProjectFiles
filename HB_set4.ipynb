{
 "cells": [
  {
   "cell_type": "code",
   "execution_count": 1,
   "id": "ad15fb37",
   "metadata": {},
   "outputs": [],
   "source": [
    "import numpy as np\n",
    "import keras\n",
    "from keras import backend as K\n",
    "from keras.models import Sequential\n",
    "from keras.layers import Activation\n",
    "from keras.layers.core import Dense, Flatten\n",
    "from keras.optimizers import Adam\n",
    "from keras.metrics import categorical_crossentropy\n",
    "from keras.preprocessing.image import ImageDataGenerator\n",
    "from tensorflow.keras.layers import BatchNormalization\n",
    "from keras.layers.convolutional import *\n",
    "from matplotlib import pyplot as plt\n",
    "from sklearn.metrics import confusion_matrix\n",
    "import itertools\n",
    "import matplotlib.pyplot as plt\n",
    "%matplotlib inline"
   ]
  },
  {
   "cell_type": "code",
   "execution_count": 2,
   "id": "953ec916",
   "metadata": {},
   "outputs": [],
   "source": [
    "train_path='D:/Ramazan/ЗАГРУЗКИ/ECG_images_dataset/4FoldCV_HB/set4/training_set'\n",
    "valid_path='D:/Ramazan/ЗАГРУЗКИ/ECG_images_dataset/4FoldCV_HB/set4/validation_set'\n",
    "test_path='D:/Ramazan/ЗАГРУЗКИ/ECG_images_dataset/4FoldCV_HB/set4/testing_set'"
   ]
  },
  {
   "cell_type": "code",
   "execution_count": 3,
   "id": "9b83fb00",
   "metadata": {},
   "outputs": [
    {
     "name": "stdout",
     "output_type": "stream",
     "text": [
      "Found 192 images belonging to 2 classes.\n",
      "Found 192 images belonging to 2 classes.\n",
      "Found 64 images belonging to 2 classes.\n"
     ]
    }
   ],
   "source": [
    "train_batches=ImageDataGenerator().flow_from_directory(train_path,target_size=(224,224),classes=['abnormal', 'normal'], batch_size=32)\n",
    "valid_batches=ImageDataGenerator().flow_from_directory(valid_path,target_size=(224,224),classes=['abnormal', 'normal'], batch_size=32)\n",
    "test_batches=ImageDataGenerator().flow_from_directory(test_path,target_size=(224,224),classes=['abnormal', 'normal'], batch_size=32)"
   ]
  },
  {
   "cell_type": "code",
   "execution_count": 4,
   "id": "60782406",
   "metadata": {},
   "outputs": [],
   "source": [
    "def plots(ims, figsize=(12,6), rows=1, interp=False, titles=None):\n",
    "    if type(ims[0]) is np.ndarray:\n",
    "        ims= np.array(ims).astype(np.uint8)\n",
    "        if (ims.shape[-1] != 3):\n",
    "            ims = ims.transpose((0,2,3,1))\n",
    "    f = plt.figure(figsize=figsize)\n",
    "    cols = len(ims)//rows if len(ims) % 2 == 0 else len(ims)//rows + 1\n",
    "    for i in range(len(ims)):\n",
    "        sp = f.add_subplot(rows, cols, i+1)\n",
    "        sp.axis('off')\n",
    "        if titles is not None:\n",
    "            sp.set_title(titles[i], fontsize=16)\n",
    "        plt.imshow(ims[i], interpolation=None if interp else 'none')"
   ]
  },
  {
   "cell_type": "code",
   "execution_count": 5,
   "id": "01304fc3",
   "metadata": {},
   "outputs": [],
   "source": [
    "imgs, labels = next(train_batches)"
   ]
  },
  {
   "cell_type": "code",
   "execution_count": 6,
   "id": "b8546502",
   "metadata": {},
   "outputs": [],
   "source": [
    "vgg16_model = keras.applications.vgg16.VGG16()"
   ]
  },
  {
   "cell_type": "code",
   "execution_count": 7,
   "id": "a2c9648d",
   "metadata": {},
   "outputs": [],
   "source": [
    "model = Sequential()\n",
    "for layer in vgg16_model.layers[:-1]:\n",
    "    model.add(layer)    "
   ]
  },
  {
   "cell_type": "code",
   "execution_count": 8,
   "id": "40e2fb07",
   "metadata": {},
   "outputs": [],
   "source": [
    "for layer in model.layers:\n",
    "    layer.trainable = False"
   ]
  },
  {
   "cell_type": "code",
   "execution_count": 9,
   "id": "ba50b337",
   "metadata": {},
   "outputs": [],
   "source": [
    "model.add(Dense(2, activation='softmax'))"
   ]
  },
  {
   "cell_type": "code",
   "execution_count": 10,
   "id": "b06e61c1",
   "metadata": {},
   "outputs": [
    {
     "name": "stdout",
     "output_type": "stream",
     "text": [
      "Model: \"sequential\"\n",
      "_________________________________________________________________\n",
      " Layer (type)                Output Shape              Param #   \n",
      "=================================================================\n",
      " block1_conv1 (Conv2D)       (None, 224, 224, 64)      1792      \n",
      "                                                                 \n",
      " block1_conv2 (Conv2D)       (None, 224, 224, 64)      36928     \n",
      "                                                                 \n",
      " block1_pool (MaxPooling2D)  (None, 112, 112, 64)      0         \n",
      "                                                                 \n",
      " block2_conv1 (Conv2D)       (None, 112, 112, 128)     73856     \n",
      "                                                                 \n",
      " block2_conv2 (Conv2D)       (None, 112, 112, 128)     147584    \n",
      "                                                                 \n",
      " block2_pool (MaxPooling2D)  (None, 56, 56, 128)       0         \n",
      "                                                                 \n",
      " block3_conv1 (Conv2D)       (None, 56, 56, 256)       295168    \n",
      "                                                                 \n",
      " block3_conv2 (Conv2D)       (None, 56, 56, 256)       590080    \n",
      "                                                                 \n",
      " block3_conv3 (Conv2D)       (None, 56, 56, 256)       590080    \n",
      "                                                                 \n",
      " block3_pool (MaxPooling2D)  (None, 28, 28, 256)       0         \n",
      "                                                                 \n",
      " block4_conv1 (Conv2D)       (None, 28, 28, 512)       1180160   \n",
      "                                                                 \n",
      " block4_conv2 (Conv2D)       (None, 28, 28, 512)       2359808   \n",
      "                                                                 \n",
      " block4_conv3 (Conv2D)       (None, 28, 28, 512)       2359808   \n",
      "                                                                 \n",
      " block4_pool (MaxPooling2D)  (None, 14, 14, 512)       0         \n",
      "                                                                 \n",
      " block5_conv1 (Conv2D)       (None, 14, 14, 512)       2359808   \n",
      "                                                                 \n",
      " block5_conv2 (Conv2D)       (None, 14, 14, 512)       2359808   \n",
      "                                                                 \n",
      " block5_conv3 (Conv2D)       (None, 14, 14, 512)       2359808   \n",
      "                                                                 \n",
      " block5_pool (MaxPooling2D)  (None, 7, 7, 512)         0         \n",
      "                                                                 \n",
      " flatten (Flatten)           (None, 25088)             0         \n",
      "                                                                 \n",
      " fc1 (Dense)                 (None, 4096)              102764544 \n",
      "                                                                 \n",
      " fc2 (Dense)                 (None, 4096)              16781312  \n",
      "                                                                 \n",
      " dense (Dense)               (None, 2)                 8194      \n",
      "                                                                 \n",
      "=================================================================\n",
      "Total params: 134,268,738\n",
      "Trainable params: 8,194\n",
      "Non-trainable params: 134,260,544\n",
      "_________________________________________________________________\n"
     ]
    }
   ],
   "source": [
    "model.summary()"
   ]
  },
  {
   "cell_type": "code",
   "execution_count": 11,
   "id": "46ffb0ed",
   "metadata": {},
   "outputs": [],
   "source": [
    "model.compile(Adam(learning_rate=.01), loss='categorical_crossentropy', metrics=['accuracy'])"
   ]
  },
  {
   "cell_type": "code",
   "execution_count": 12,
   "id": "73eb25c2",
   "metadata": {},
   "outputs": [
    {
     "name": "stdout",
     "output_type": "stream",
     "text": [
      "Epoch 1/18\n",
      "6/6 - 100s - loss: 10.9428 - accuracy: 0.4792 - val_loss: 0.9155 - val_accuracy: 0.7865 - 100s/epoch - 17s/step\n",
      "Epoch 2/18\n",
      "6/6 - 96s - loss: 4.0638 - accuracy: 0.6771 - val_loss: 6.6455 - val_accuracy: 0.5208 - 96s/epoch - 16s/step\n",
      "Epoch 3/18\n",
      "6/6 - 96s - loss: 3.6064 - accuracy: 0.6719 - val_loss: 7.3905 - val_accuracy: 0.6042 - 96s/epoch - 16s/step\n",
      "Epoch 4/18\n",
      "6/6 - 96s - loss: 3.2681 - accuracy: 0.7708 - val_loss: 3.3171 - val_accuracy: 0.7240 - 96s/epoch - 16s/step\n",
      "Epoch 5/18\n",
      "6/6 - 95s - loss: 1.5049 - accuracy: 0.8385 - val_loss: 2.3663 - val_accuracy: 0.7812 - 95s/epoch - 16s/step\n",
      "Epoch 6/18\n",
      "6/6 - 96s - loss: 1.1543 - accuracy: 0.8438 - val_loss: 1.3524 - val_accuracy: 0.8385 - 96s/epoch - 16s/step\n",
      "Epoch 7/18\n",
      "6/6 - 101s - loss: 0.8519 - accuracy: 0.8750 - val_loss: 1.7798 - val_accuracy: 0.8125 - 101s/epoch - 17s/step\n",
      "Epoch 8/18\n",
      "6/6 - 99s - loss: 0.7614 - accuracy: 0.8906 - val_loss: 0.7598 - val_accuracy: 0.8490 - 99s/epoch - 16s/step\n",
      "Epoch 9/18\n",
      "6/6 - 97s - loss: 0.4723 - accuracy: 0.9271 - val_loss: 0.7383 - val_accuracy: 0.8750 - 97s/epoch - 16s/step\n",
      "Epoch 10/18\n",
      "6/6 - 97s - loss: 0.3632 - accuracy: 0.9323 - val_loss: 0.5328 - val_accuracy: 0.9062 - 97s/epoch - 16s/step\n",
      "Epoch 11/18\n",
      "6/6 - 96s - loss: 0.3234 - accuracy: 0.9271 - val_loss: 0.6038 - val_accuracy: 0.8802 - 96s/epoch - 16s/step\n",
      "Epoch 12/18\n",
      "6/6 - 95s - loss: 0.3034 - accuracy: 0.9375 - val_loss: 0.4671 - val_accuracy: 0.8958 - 95s/epoch - 16s/step\n",
      "Epoch 13/18\n",
      "6/6 - 95s - loss: 0.2268 - accuracy: 0.9167 - val_loss: 0.7677 - val_accuracy: 0.8594 - 95s/epoch - 16s/step\n",
      "Epoch 14/18\n",
      "6/6 - 94s - loss: 0.2515 - accuracy: 0.9531 - val_loss: 0.5083 - val_accuracy: 0.8854 - 94s/epoch - 16s/step\n",
      "Epoch 15/18\n",
      "6/6 - 93s - loss: 0.2033 - accuracy: 0.9271 - val_loss: 0.6672 - val_accuracy: 0.8594 - 93s/epoch - 16s/step\n",
      "Epoch 16/18\n",
      "6/6 - 95s - loss: 0.1180 - accuracy: 0.9479 - val_loss: 0.3805 - val_accuracy: 0.9167 - 95s/epoch - 16s/step\n",
      "Epoch 17/18\n",
      "6/6 - 95s - loss: 0.1473 - accuracy: 0.9583 - val_loss: 0.3173 - val_accuracy: 0.9219 - 95s/epoch - 16s/step\n",
      "Epoch 18/18\n",
      "6/6 - 95s - loss: 0.1022 - accuracy: 0.9740 - val_loss: 0.5098 - val_accuracy: 0.8698 - 95s/epoch - 16s/step\n"
     ]
    },
    {
     "data": {
      "text/plain": [
       "<keras.callbacks.History at 0x1d2d4d00fa0>"
      ]
     },
     "execution_count": 12,
     "metadata": {},
     "output_type": "execute_result"
    }
   ],
   "source": [
    "model.fit(train_batches, steps_per_epoch=6, validation_data=valid_batches, validation_steps=6, epochs=18, verbose=2)"
   ]
  },
  {
   "cell_type": "code",
   "execution_count": 13,
   "id": "9a85eeff",
   "metadata": {},
   "outputs": [],
   "source": [
    "test_imgs, test_labels = next(test_batches)"
   ]
  },
  {
   "cell_type": "code",
   "execution_count": 14,
   "id": "5d321d26",
   "metadata": {},
   "outputs": [
    {
     "data": {
      "text/plain": [
       "array([0., 0., 0., 1., 0., 0., 0., 0., 1., 0., 1., 0., 1., 1., 0., 1., 1.,\n",
       "       0., 1., 1., 1., 1., 0., 0., 0., 0., 1., 0., 0., 1., 0., 0.],\n",
       "      dtype=float32)"
      ]
     },
     "execution_count": 14,
     "metadata": {},
     "output_type": "execute_result"
    }
   ],
   "source": [
    "test_labels = test_labels[:,0]\n",
    "test_labels"
   ]
  },
  {
   "cell_type": "code",
   "execution_count": 15,
   "id": "87049617",
   "metadata": {},
   "outputs": [
    {
     "data": {
      "text/plain": [
       "array([[5.30834170e-03, 9.94691730e-01],\n",
       "       [1.93446205e-04, 9.99806643e-01],\n",
       "       [2.38112043e-05, 9.99976099e-01],\n",
       "       [9.99960840e-01, 3.91284884e-05],\n",
       "       [3.81167702e-05, 9.99961793e-01],\n",
       "       [9.50569179e-10, 9.99999940e-01],\n",
       "       [1.71492560e-04, 9.99828577e-01],\n",
       "       [1.34089655e-08, 9.99999940e-01],\n",
       "       [9.23824966e-01, 7.61750489e-02],\n",
       "       [3.96692631e-04, 9.99603331e-01],\n",
       "       [9.50665534e-01, 4.93344255e-02],\n",
       "       [6.46872923e-06, 9.99993503e-01],\n",
       "       [9.99929965e-01, 7.00166420e-05],\n",
       "       [5.00652269e-02, 9.49934721e-01],\n",
       "       [9.38340425e-01, 6.16596565e-02],\n",
       "       [9.99999940e-01, 2.01998899e-12],\n",
       "       [9.99744773e-01, 2.55313207e-04],\n",
       "       [1.39323900e-10, 9.99999940e-01],\n",
       "       [4.99251764e-04, 9.99500692e-01],\n",
       "       [9.99999940e-01, 6.36315312e-09],\n",
       "       [9.99999940e-01, 4.91861055e-13],\n",
       "       [9.36873734e-01, 6.31261766e-02],\n",
       "       [4.55839972e-06, 9.99995410e-01],\n",
       "       [1.67324750e-08, 9.99999940e-01],\n",
       "       [6.85056278e-09, 9.99999940e-01],\n",
       "       [4.36913580e-01, 5.63086390e-01],\n",
       "       [9.99999940e-01, 1.00775948e-13],\n",
       "       [3.53903323e-10, 9.99999940e-01],\n",
       "       [7.24664005e-07, 9.99999225e-01],\n",
       "       [6.11190638e-03, 9.93888080e-01],\n",
       "       [1.02534480e-02, 9.89746451e-01],\n",
       "       [4.88915797e-09, 9.99999940e-01]], dtype=float32)"
      ]
     },
     "execution_count": 15,
     "metadata": {},
     "output_type": "execute_result"
    }
   ],
   "source": [
    "predictions = model.predict(test_batches, steps = 1, verbose = 0)\n",
    "predictions"
   ]
  },
  {
   "cell_type": "code",
   "execution_count": 16,
   "id": "f96ca7ee",
   "metadata": {},
   "outputs": [],
   "source": [
    "def plot_confusion_matrix(cm, classes,\n",
    "                          normalize=False,\n",
    "                          title='Confusion matrix',\n",
    "                          cmap=plt.cm.Blues):\n",
    "    \"\"\"\n",
    "    This function prints and plots the confusion matrix.\n",
    "    Normalization can be applied by setting `normalize=True`.\n",
    "    \"\"\"\n",
    "    plt.imshow(cm, interpolation='nearest', cmap=cmap)\n",
    "    plt.title(title)\n",
    "    plt.colorbar()\n",
    "    tick_marks = np.arange(len(classes))\n",
    "    plt.xticks(tick_marks, classes, rotation=45)\n",
    "    plt.yticks(tick_marks, classes)\n",
    "\n",
    "    if normalize:\n",
    "        cm = cm.astype('float') / cm.sum(axis=1)[:, np.newaxis]\n",
    "        print(\"Normalized confusion matrix\")\n",
    "    else:\n",
    "        print('Confusion matrix, without normalization')\n",
    "\n",
    "    print(cm)\n",
    "\n",
    "    thresh = cm.max() / 2.\n",
    "    for i, j in itertools.product(range(cm.shape[0]), range(cm.shape[1])):\n",
    "        plt.text(j, i, cm[i, j],\n",
    "                 horizontalalignment=\"center\",\n",
    "                 color=\"white\" if cm[i, j] > thresh else \"black\")\n",
    "\n",
    "    plt.tight_layout()\n",
    "    plt.ylabel('True label')\n",
    "    plt.xlabel('Predicted label')"
   ]
  },
  {
   "cell_type": "code",
   "execution_count": 17,
   "id": "26c67f07",
   "metadata": {},
   "outputs": [],
   "source": [
    "cm = confusion_matrix(test_labels, np.round(predictions[:,0]))"
   ]
  },
  {
   "cell_type": "code",
   "execution_count": 18,
   "id": "05d59509",
   "metadata": {},
   "outputs": [
    {
     "name": "stdout",
     "output_type": "stream",
     "text": [
      "Confusion matrix, without normalization\n",
      "[[18  1]\n",
      " [ 3 10]]\n"
     ]
    },
    {
     "data": {
      "image/png": "[encoded data removed]",
      "text/plain": [
       "<Figure size 640x480 with 2 Axes>"
      ]
     },
     "metadata": {},
     "output_type": "display_data"
    }
   ],
   "source": [
    "cm_plot_labels = ['abnormal', 'normal']\n",
    "plot_confusion_matrix(cm, cm_plot_labels, title='Confusion Matrix')"
   ]
  },
  {
   "cell_type": "code",
   "execution_count": null,
   "id": "bc75ff1f",
   "metadata": {},
   "outputs": [],
   "source": []
  }
 ],
 "metadata": {
  "kernelspec": {
   "display_name": "Python 3 (ipykernel)",
   "language": "python",
   "name": "python3"
  },
  "language_info": {
   "codemirror_mode": {
    "name": "ipython",
    "version": 3
   },
   "file_extension": ".py",
   "mimetype": "text/x-python",
   "name": "python",
   "nbconvert_exporter": "python",
   "pygments_lexer": "ipython3",
   "version": "3.10.9"
  }
 },
 "nbformat": 4,
 "nbformat_minor": 5
}
